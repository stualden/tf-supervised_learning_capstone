{
 "cells": [
  {
   "cell_type": "markdown",
   "id": "homeless-corruption",
   "metadata": {},
   "source": [
    "### <center>Supervised Learning Capstone - Stu Alden, Thinkful Data Science Flex Course</center>\n",
    "<center>supervised_capstone_v3</center>\n",
    "\n",
    "### <center>Predicting whether a recording is a TV commercial or not, based on audio and video information</center>\n",
    "\n",
    "#### Contents of this notebook - three tasks outlined in the checkpoint:\n",
    "1. Go out and find a dataset of interest\n",
    "2. Explore the data\n",
    "3. Model your outcome of interest"
   ]
  },
  {
   "cell_type": "markdown",
   "id": "acquired-russia",
   "metadata": {},
   "source": [
    "*1. Go out and find a dataset of interest. It could be from one of the recommended resources or some other aggregation. Or it could be something that you scraped yourself. Just make sure that it has lots of variables, including an outcome of interest to you.*\n",
    "\n",
    "Browsing through publicly-available datasets, I came across one from 2015 published by a group of academics in India.  They had used statistics gleaned from many hours of TV programming and train models to identify whether a particular segment of programming was a) not a commercial (i.e., a news broadcast) or b) a commercial (advertisement).\n",
    "\n",
    "Link is here: https://archive.ics.uci.edu/ml/datasets/TV+News+Channel+Commercial+Detection+Dataset\n",
    "\n",
    "Given my dislike for TV commercials, I thought it would be interesting to learn how they approached this problem and whether I could eventually use any of the concepts as a \"commercial filter\" to apply to pre-recorded material. \n",
    "\n",
    "The data sets are fairly large, with potentially over 4,000 features, and tens of thousands of samples.  The UCI page included a description of the project (pasted into the markdown cell below, with some edits just to improve readability), along with 5 data files - one for each of three Indian news stations, plus two international news channels (BBC and CNN).  I chose just the last two files for this project.  I did the preliminary work on the BBC file, and then trained models on the CNN file to see differences (which, the authors noted, are expected, given that stations tend to have their \"style\" that provide useful information).\n",
    "\n",
    "The outcome of interest is simple - whether a segment is a commercial (which they code as 1) or not a commercial (they code as -1).  The authors used an SVM approach (which they did not describe in detail) which enabled them achieve a 95% R-squared score on the data (distinct models for each TV station).  They then used a \"post-processing\" technique (described later) to boost the score to around 97%.  Although I didn't expect to achieve results this good, it provided a helpful \"stretch goal\" reference point.\n",
    "\n",
    "See more information on the project and the data below, including a description of the data fields (potentially 4,125 in all) and how they were developed from analysis of video and audio information."
   ]
  },
  {
   "cell_type": "markdown",
   "id": "adjusted-pottery",
   "metadata": {},
   "source": [
    "*Write-up provided with the data:*\n",
    "\n",
    "Data Set Name:\n",
    "TV Commercials in News Broadcast\n",
    "TV news channel commercial detection dataset\n",
    "Abstract:\n",
    "TV Commercials dataset consists of  popular audio-visual features of video shots extracted from 150 hours of TV news broadcast of 3 Indian and 2 international news channels ( 30 Hours each).  \n",
    "\n",
    "Source:\n",
    "Dr. Prithwijit Guha , Raghvendra D. Kannao and Ravishankar Soni\n",
    "Multimedia Analytics Lab, \n",
    "Department of Electrical and Electronics Engineering, \n",
    "Indian Institute of Technology, Guwahati, India\n",
    "rdkannao@gmail.com , prithwijit.guha@gmail.com \n",
    "\n",
    "\n",
    "Number of Instances (records in your data set):  129685\n",
    "Number of Attributes (fields within each record):  12 \n",
    "\n",
    "Relevant Information:\n",
    "Automatic identification of commercial blocks in news videos finds a lot of applications in the domain of television broadcast analysis and monitoring. Commercials occupy almost 40-60%  of total air time. Manual segmentation of commercials from thousands of TV news channels is time consuming, and economically infeasible hence prompts the need for machine learning based \n",
    "\n",
    "Method:\n",
    "Classifying TV News commercials is a semantic video classification problem. TV News commercials on particular news channel are combinations of video shots uniquely characterized by audio-visual presentation. Hence various audio visual features extracted from video shots are widely used for TV commercial classification.  Indian News channels do not follow any particular news presentation format, have large variability and  dynamic nature presenting a challenging machine learning problem.  Features from 150 Hours of broadcast news videos from 5 different ( 3 Indian and  2 International News channels)  news channels. Viz. CNNIBN, NDTV 24X7, TIMESNOW, BBC and CNN are presented in this dataset.  Videos are recorded at resolution of 720 X 576 at 25 fps  using a DVR and set top box. 3 Indian channels are recorded concurrently while 2 International are recorded together. Feature file preserves the order of apperance of shots.  \n",
    "\n",
    "Attribute Information:\n",
    "Video shots are used as unit for generating instances. Broadcast News videos are segmented into video shots using RGB Colour Histogram matching Between consecutive video frames. From each video shot we have extracted 7 Audio ( viz. Short term energy,  zero crossing rate, Spectral Centroid, spectral Flux, spectral Roll off frequency, fundamental frequency and MFCC Bag of Audio Words) and 5 visual Features ( viz. Video shot length, Screen Text Distribution,  Motion Distribution, Frame Difference Distribution, Edge Change Ratio) from each video shot. Details of each extracted feature are as follows.\n",
    "\n",
    "Audio Features :- \n",
    "In general to attract viewer's attention TV commercials have higher audio amplitude, appropriate background music ( comparatively higher frequencies) as well as sharp transitions from one music to other or music to speech etc. We try to capture these properties by using low level audio features -- Short Time Energy (STE) ,  Zero Crossing Rate (ZCR), Spectral Centroid, Spectral Flux,  Spectral Roll-Off Frequency and Fundamental Frequency.  All of these short term audio features are calculated with audio frame size of 20 msec at 8000Hz sampling Frequency.  The Mean and standard deviation of all audio feature values are calculated over the shot, generating a 2D vector for each feature. \n",
    "The MFCC Bag of Audio Words have been successfully used in several existing speech/audio processing applications. This motivated us to compute the MFCC coefficients along with Delta and Delta-Delta Cepstrum from 150 hours of audio tracks. These coefficients are clustered into 4000 groups which form the Audio words. Each shot is then represented as a  4000 Dimensional Bag of Audio Words by forming the normalized histograms of the MFCC co-efficients extracted from 20 ms windows with overlap of 10 ms in the shots. \n",
    "\n",
    "Video Features : \n",
    "Commercial video shots are usually short in length, fast visual transitions with peculiar placement of overlaid text bands. Video Shot Length is directly used as one of the feature. Placement of overlaid text bands is represented by  15 dimensional overlaid Text Distribution. To calculate Text Distribution feature, video frame is divided into a grid of size 5 X 3( 15 grid blocks).  The text distribution feature is obtained by averaging the fraction of text area present in a grid block over all frames of the shot. Motion Distribution, Frame Change Distribution and Edge Change Ratio captures the dynamic nature of the commercial shots.\n",
    "\n",
    "Motion Distribution is obtained by first computing dense optical flow (Horn-Schunk formulation) followed by  construction of a distribution of flow magnitudes over the entire shot with 40 uniformly divided bins in range of [0, 40]. Sudden changes in pixel intensities are grasped by Frame Difference Distribution. Such changes are not registered by optical flow. Thus, Frame Difference Distribution is also computed along with flow magnitude distributions. We obtain the frame difference by averaging absolute frame difference in each of 3 color channels and the distribution is constructed with 32 bins in the range of [0, 255] . Edge Change Ratio Captures the motion of edges between consecutive frames and is defined as ratio of displaced edge pixels to the total number of edge pixels in a frame. We calculate the mean and variance of the ECR over the entire shot. \n",
    "\n",
    "\n",
    "The Feature File is represented in Lib SVM data format (The Files are arranged channel wise) and contains approximately 62% commercial instances( Positives). Dimension index for different Features are as Follows\n",
    "\n",
    "Labels : - +1/-1 ( Commercials/Non Commercials) \n",
    "\n",
    "Feature\n",
    "Dimension Index in feature File\n",
    "\n",
    "* 1 Shot Length\n",
    "\n",
    "* 2 - 3  Motion Distribution( Mean and Variance)\n",
    "\n",
    "* 4 - 5  Frame Difference Distribution ( Mean and Variance)\n",
    "\n",
    "* 6 – 7 Short time energy ( Mean and Variance)\n",
    "\n",
    "* 8 - 9  ZCR( Mean and Variance)\n",
    "\n",
    "* 10 - 11  Spectral Centroid ( Mean and Variance)\n",
    "\n",
    "* 12 - 13  Spectral Roll off ( Mean and Variance)\n",
    "\n",
    "* 14 - 15  Spectral Flux ( Mean and Variance)\n",
    "\n",
    "* 16 - 17  Fundamental Frequency ( Mean and Variance)\n",
    "\n",
    "* 18 -  58  Motion Distribution ( 40 bins)\n",
    "\n",
    "* 59 - 91  Frame Difference Distribution ( 32 bins)\n",
    "\n",
    "* 92 - 122  Text area distribution (  15 bins Mean  and 15 bins for variance )\n",
    "\n",
    "* 123 -  4123  Bag of Audio Words ( 4000 bins)\n",
    "\n",
    "* 4124 - 4125  Edge change Ratio ( Mean and Variance)\n",
    "\n",
    "\n",
    "\n",
    "Relevant Papers:\n",
    "Part of this dataset was used in \n",
    "A. Vyas, R. Kannao, V. Bhargava and P. Guha, “Commercial Block Detection in Broadcast News Videos,” in Proc. Ninth Indian Conference on Computer Vision, Graphics and Image Processing, Dec. 2014.\n"
   ]
  },
  {
   "cell_type": "code",
   "execution_count": 2,
   "id": "monthly-director",
   "metadata": {
    "ExecuteTime": {
     "end_time": "2021-05-21T19:20:34.337008Z",
     "start_time": "2021-05-21T19:20:34.321415Z"
    }
   },
   "outputs": [],
   "source": [
    "# General-purpose\n",
    "import copy\n",
    "import numpy as np, pandas as pd\n",
    "\n",
    "# Reading in data\n",
    "from   sklearn.datasets         import load_svmlight_file\n",
    "\n",
    "# Data processing\n",
    "from   sklearn.model_selection  import train_test_split\n",
    "from   sklearn                  import preprocessing\n",
    "\n",
    "# Models, measurement and tuning\n",
    "from   sklearn.model_selection  import GridSearchCV # cross_val_score, \n",
    "from   sklearn.svm              import LinearSVC\n",
    "from   sklearn                  import ensemble, tree\n",
    "from   sklearn.linear_model     import LogisticRegression\n",
    "from   sklearn.neighbors        import KNeighborsClassifier\n",
    "\n",
    "# Visual aids\n",
    "import matplotlib.pyplot as plt\n",
    "%matplotlib inline\n",
    "import hvplot.pandas\n",
    "import seaborn as sns\n"
   ]
  },
  {
   "cell_type": "code",
   "execution_count": 67,
   "id": "representative-juice",
   "metadata": {
    "ExecuteTime": {
     "end_time": "2021-03-24T20:19:09.504174Z",
     "start_time": "2021-03-24T20:19:09.495391Z"
    }
   },
   "outputs": [],
   "source": [
    "# Routines to save or retrieve dataframes using my postgres server\n",
    "class Df2sql():\n",
    "    def __init__(self, user, pw, host, port, db):\n",
    "        self.user = user\n",
    "        self.pw = pw\n",
    "        self.host = host\n",
    "        self.port = port\n",
    "        self.db = db\n",
    "        self.connector = 'postgresql://{}:{}@{}:{}/{}'.format(self.user, self.pw, self.host, self.port, self.db)\n",
    "\n",
    "    def df2tb(self, df, table_name, mode):\n",
    "        return df.to_sql(table_name, \n",
    "                         self.connector,\n",
    "                         schema=None,          # Can't figure how to automate?\n",
    "                         if_exists=mode,       # fail, replace, append\n",
    "                         index=True,           # Include df index as a column\n",
    "                         index_label='df_idx', # Fix a name so I can retrieve it easily\n",
    "                         chunksize=None,       # write all rows at once\n",
    "                         dtype=None,           # Automatic method???\n",
    "                         method=None           # maybe want 'multi' here?\n",
    "                        )\n",
    "                   \n",
    "    def tb2df(self, table_name):\n",
    "        return pd.read_sql(table_name, \n",
    "                           self.connector,\n",
    "                           index_col='df_idx', \n",
    "                           coerce_float=True, \n",
    "                           params=None, \n",
    "                           parse_dates=None, \n",
    "                           columns=None, \n",
    "                           chunksize=None\n",
    "                          )"
   ]
  },
  {
   "cell_type": "code",
   "execution_count": 3,
   "id": "induced-concern",
   "metadata": {
    "ExecuteTime": {
     "end_time": "2021-05-21T19:21:04.344194Z",
     "start_time": "2021-05-21T19:21:02.008200Z"
    }
   },
   "outputs": [],
   "source": [
    "# Load the data - svmlight_file is custom-made for this format - sparse CSR matrix\n",
    "def get_data(file_name):\n",
    "    data = load_svmlight_file(file_name)\n",
    "    return data[0], data[1]\n",
    "\n",
    "X, y = get_data(\"./data/BBC.txt\")\n"
   ]
  },
  {
   "cell_type": "code",
   "execution_count": 4,
   "id": "restricted-indication",
   "metadata": {
    "ExecuteTime": {
     "end_time": "2021-05-21T19:21:13.048983Z",
     "start_time": "2021-05-21T19:21:12.808257Z"
    },
    "scrolled": false
   },
   "outputs": [
    {
     "name": "stdout",
     "output_type": "stream",
     "text": [
      "<class 'scipy.sparse.csr.csr_matrix'> (17720, 4125)\n",
      "<class 'numpy.ndarray'> (17720,)\n",
      "\n",
      "Means, News segments versus Commercials:\n",
      "type      -1.000000\n",
      "12      1132.969694\n",
      "103        0.133592\n",
      "91         0.034895\n",
      "6          0.008976\n",
      "0        178.607158\n",
      "dtype: float64\n",
      "type       1.000000\n",
      "12      1911.923464\n",
      "103        0.057860\n",
      "91         0.064268\n",
      "6          0.008270\n",
      "0         75.584720\n",
      "dtype: float64\n",
      "\n",
      "Std Deviations, News segments v Commercials:\n",
      "type      0.000000\n",
      "12      924.875213\n",
      "103       0.142120\n",
      "91        0.099509\n",
      "6         0.006202\n",
      "0       254.129986\n",
      "dtype: float64\n",
      "type      0.000000\n",
      "12      930.761206\n",
      "103       0.093001\n",
      "91        0.075704\n",
      "6         0.004387\n",
      "0       399.779425\n",
      "dtype: float64\n",
      "         type         mean          var\n",
      "count  9304.0  9304.000000  9304.000000\n",
      "mean     -1.0    85.514780    31.873866\n",
      "std       0.0    58.469952    22.188313\n",
      "min      -1.0     0.000000     0.000000\n",
      "25%      -1.0     0.000000     0.000000\n",
      "50%      -1.0   113.612617    40.868399\n",
      "75%      -1.0   130.042855    48.277557\n",
      "max      -1.0   192.615387    76.202797\n",
      "         type         mean          var\n",
      "count  8416.0  8416.000000  8416.000000\n",
      "mean      1.0    96.520673    44.113172\n",
      "std       0.0    42.594537    19.612971\n",
      "min       1.0     0.000000     0.000000\n",
      "25%       1.0    90.676815    41.121218\n",
      "50%       1.0   108.474152    49.182440\n",
      "75%       1.0   123.014469    56.471366\n",
      "max       1.0   194.318634    80.269890\n"
     ]
    }
   ],
   "source": [
    "# Explore the data\n",
    "print(type(X), X.shape)\n",
    "print(type(y), y.shape)\n",
    "\n",
    "# Look at top features (as indicated by gradient boost algorithm below)\n",
    "# Put basic info into dataframe just for easy tallying - top 5 features (using numbering starting at 0)\n",
    "X_df = pd.DataFrame(X[:,[12, 103, 91, 6, 0]].toarray(), columns=['12', '103', '91', '6', '0'])\n",
    "y_df = pd.DataFrame(y, columns=['type'])\n",
    "basic_info = pd.concat([y_df, X_df], axis=1)\n",
    "\n",
    "# Get mean and std for news and commercials separately, for each of the top 5 features:\n",
    "print(\"\\nMeans, News segments versus Commercials:\")\n",
    "print(basic_info.loc[basic_info['type'] == -1].mean())\n",
    "print(basic_info.loc[basic_info['type'] ==  1].mean())\n",
    "\n",
    "print(\"\\nStd Deviations, News segments v Commercials:\")\n",
    "print(basic_info.loc[basic_info['type'] == -1].std())\n",
    "print(basic_info.loc[basic_info['type'] ==  1].std())\n",
    "\n",
    "# I'm also curious about the fundamental frequency (mean and variance) - at least that's an understandable stat\n",
    "X_df = pd.DataFrame(X[:,[15, 16]].toarray(), columns=['mean', 'var'])\n",
    "y_df = pd.DataFrame(y, columns=['type'])\n",
    "fund_freq = pd.concat([y_df, X_df], axis=1)\n",
    "print(fund_freq.loc[fund_freq['type'] == -1].describe())\n",
    "print(fund_freq.loc[fund_freq['type'] ==  1].describe())\n"
   ]
  },
  {
   "cell_type": "code",
   "execution_count": 5,
   "id": "dimensional-stewart",
   "metadata": {
    "ExecuteTime": {
     "end_time": "2021-05-21T19:41:05.792551Z",
     "start_time": "2021-05-21T19:22:01.312004Z"
    }
   },
   "outputs": [
    {
     "data": {},
     "metadata": {},
     "output_type": "display_data"
    },
    {
     "data": {
      "application/vnd.holoviews_exec.v0+json": "",
      "text/html": [
       "<div id='1002'>\n",
       "\n",
       "\n",
       "\n",
       "\n",
       "\n",
       "  <div class=\"bk-root\" id=\"88152aa7-db97-45a9-beff-e0de369bc57d\" data-root-id=\"1002\"></div>\n",
       "</div>\n",
       "<script type=\"application/javascript\">(function(root) {\n",
       "  function embed_document(root) {\n",
       "    var docs_json = {\"4a3c654b-a8b3-422f-ab46-3eb4faf77941\":{\"defs\":[],\"roots\":{\"references\":[{\"attributes\":{\"columns\":[{\"id\":\"1008\"},{\"id\":\"1013\"},{\"id\":\"1018\"}],\"height\":300,\"reorderable\":false,\"source\":{\"id\":\"1004\"},\"view\":{\"id\":\"1023\"},\"width\":700},\"id\":\"1021\",\"type\":\"DataTable\"},{\"attributes\":{},\"id\":\"1007\",\"type\":\"IntEditor\"},{\"attributes\":{\"editor\":{\"id\":\"1017\"},\"field\":\"commercials\",\"formatter\":{\"id\":\"1016\"},\"title\":\"commercials\"},\"id\":\"1018\",\"type\":\"TableColumn\"},{\"attributes\":{\"editor\":{\"id\":\"1007\"},\"field\":\"feature\",\"formatter\":{\"id\":\"1006\"},\"title\":\"feature\"},\"id\":\"1008\",\"type\":\"TableColumn\"},{\"attributes\":{\"margin\":[5,5,5,5],\"name\":\"HSpacer01612\",\"sizing_mode\":\"stretch_width\"},\"id\":\"1028\",\"type\":\"Spacer\"},{\"attributes\":{},\"id\":\"1005\",\"type\":\"Selection\"},{\"attributes\":{},\"id\":\"1017\",\"type\":\"IntEditor\"},{\"attributes\":{\"children\":[{\"id\":\"1003\"},{\"id\":\"1021\"},{\"id\":\"1028\"}],\"margin\":[0,0,0,0],\"name\":\"Row01607\",\"tags\":[\"embedded\"]},\"id\":\"1002\",\"type\":\"Row\"},{\"attributes\":{},\"id\":\"1012\",\"type\":\"IntEditor\"},{\"attributes\":{},\"id\":\"1006\",\"type\":\"NumberFormatter\"},{\"attributes\":{\"data\":{\"commercials\":[6685,6070,5899,5823,5423,5097,4980,4944,3947,3200,3027,2381,2287,2274,2073,2051,2050,1936,1902,1880,1860,1849,1488,1221,1094,1073,1069,912,901,813,726,678,627,614,613,609,606,589,566,553,548,533,528,519,516,500,491,489,469,459,459,453,423,408,401,397,393,392,369,359,340,338,332,316,312,267,250,242,235,216,208,207,190,182,179,175,174,165,160,126,124,121,121,110,99,93,86,70,68,66,54,53,44,43,39,28,25,22,16,16,14,9,8,5,2,2,1,0,0,0],\"feature\":[572,490,571,761,622,579,447,815,295,220,870,958,346,1001,1047,725,650,851,708,151,923,275,1015,141,128,122,299,167,155,175,425,184,405,186,261,218,133,504,443,185,148,214,481,191,207,161,558,229,1111,196,170,230,181,194,306,208,187,600,144,235,143,219,193,270,318,876,766,365,461,142,232,406,626,228,839,791,408,239,233,205,477,126,124,268,316,165,222,633,518,1027,130,881,129,1118,177,620,140,211,136,440,462,778,127,784,323,202,486,693,688,197],\"news\":[6362,6209,5678,5016,6081,4200,5913,5907,6052,5057,5184,5649,5450,3395,4855,3663,4646,3678,2159,2168,5313,2969,2475,4571,4328,3849,1645,3934,4124,3786,1595,3231,1081,2814,1389,2487,2915,2703,540,1684,2845,356,1382,2305,1372,2531,2009,236,1754,910,2162,216,1782,1694,914,578,1771,2475,812,1931,1625,366,1789,1040,413,956,639,799,169,298,115,935,429,107,660,701,412,1421,69,712,80,862,816,223,863,1128,103,288,398,312,10,24,402,26,420,79,4,63,151,2,48,9,5,11,6,15,1,2,4,1]},\"selected\":{\"id\":\"1005\"},\"selection_policy\":{\"id\":\"1024\"}},\"id\":\"1004\",\"type\":\"ColumnDataSource\"},{\"attributes\":{\"margin\":[5,5,5,5],\"name\":\"HSpacer01611\",\"sizing_mode\":\"stretch_width\"},\"id\":\"1003\",\"type\":\"Spacer\"},{\"attributes\":{\"source\":{\"id\":\"1004\"}},\"id\":\"1023\",\"type\":\"CDSView\"},{\"attributes\":{},\"id\":\"1016\",\"type\":\"NumberFormatter\"},{\"attributes\":{},\"id\":\"1011\",\"type\":\"NumberFormatter\"},{\"attributes\":{\"editor\":{\"id\":\"1012\"},\"field\":\"news\",\"formatter\":{\"id\":\"1011\"},\"title\":\"news\"},\"id\":\"1013\",\"type\":\"TableColumn\"},{\"attributes\":{},\"id\":\"1024\",\"type\":\"UnionRenderers\"}],\"root_ids\":[\"1002\"]},\"title\":\"Bokeh Application\",\"version\":\"2.3.2\"}};\n",
       "    var render_items = [{\"docid\":\"4a3c654b-a8b3-422f-ab46-3eb4faf77941\",\"root_ids\":[\"1002\"],\"roots\":{\"1002\":\"88152aa7-db97-45a9-beff-e0de369bc57d\"}}];\n",
       "    root.Bokeh.embed.embed_items_notebook(docs_json, render_items);\n",
       "  }\n",
       "  if (root.Bokeh !== undefined && root.Bokeh.Panel !== undefined) {\n",
       "    embed_document(root);\n",
       "  } else {\n",
       "    var attempts = 0;\n",
       "    var timer = setInterval(function(root) {\n",
       "      if (root.Bokeh !== undefined && root.Bokeh.Panel !== undefined) {\n",
       "        clearInterval(timer);\n",
       "        embed_document(root);\n",
       "      } else if (document.readyState == \"complete\") {\n",
       "        attempts++;\n",
       "        if (attempts > 100) {\n",
       "          clearInterval(timer);\n",
       "          console.log(\"Bokeh: ERROR: Unable to run BokehJS code because BokehJS library is missing\");\n",
       "        }\n",
       "      }\n",
       "    }, 10, root)\n",
       "  }\n",
       "})(window);</script>"
      ],
      "text/plain": [
       ":Table   [feature,news,commercials]"
      ]
     },
     "metadata": {
      "application/vnd.holoviews_exec.v0+json": {
       "id": "1002"
      }
     },
     "output_type": "display_data"
    }
   ],
   "source": [
    "# Determine usage of the BoW fields (123-4123) - most are blank, highest # is 1119 or thereabouts\n",
    "# Time-consuming, so do this once and tuck it away on disk\n",
    "data=[]\n",
    "for col in range(122, 1119):\n",
    "    news_count = 0\n",
    "    comm_count = 0\n",
    "    for row in range(0,X.shape[0]):\n",
    "        if X[row,col] > 0:\n",
    "            if y[row] == -1:\n",
    "                news_count += 1\n",
    "            else:\n",
    "                comm_count += 1\n",
    "    if (news_count + comm_count) > 0:\n",
    "        data.append([col, news_count, comm_count]) \n",
    "\n",
    "# Convert to df in good order for graphing        \n",
    "bow_freq = pd.DataFrame(data, columns=['feature', 'news', 'commercials'])\n",
    "bow_freq = bow_freq.sort_values(by='commercials', ascending=False)\n",
    "display(bow_freq.hvplot.table())\n",
    "# Looks like there are only 110 non-zero fields out of the 4,000!!\n"
   ]
  },
  {
   "cell_type": "markdown",
   "id": "compact-grade",
   "metadata": {},
   "source": [
    "Develop some EDA graphics for use in the PowerPoint deck"
   ]
  },
  {
   "cell_type": "code",
   "execution_count": 6,
   "id": "skilled-hindu",
   "metadata": {
    "ExecuteTime": {
     "end_time": "2021-05-21T19:47:58.474759Z",
     "start_time": "2021-05-21T19:47:57.668549Z"
    },
    "scrolled": true
   },
   "outputs": [
    {
     "name": "stdout",
     "output_type": "stream",
     "text": [
      "     News  Commercials\n",
      "12    1.0     1.687533\n",
      "103   1.0     0.433110\n",
      "91    1.0     1.841765\n",
      "6     1.0     0.921363\n",
      "0     1.0     0.423190\n"
     ]
    },
    {
     "data": {
      "text/plain": [
       "<AxesSubplot:title={'center':'Relative Means of Key Features'}, xlabel='Feature #'>"
      ]
     },
     "execution_count": 6,
     "metadata": {},
     "output_type": "execute_result"
    },
    {
     "data": {
      "image/png": "[encoded data removed]",
      "text/plain": [
       "<Figure size 432x288 with 1 Axes>"
      ]
     },
     "metadata": {
      "needs_background": "light"
     },
     "output_type": "display_data"
    }
   ],
   "source": [
    "# Plot the means and std deviations of the top 5 features\n",
    "# Scales vary so much that we need relative values here\n",
    "\n",
    "m1 = basic_info.loc[basic_info['type'] ==  1]['12'].mean() / \\\n",
    "     basic_info.loc[basic_info['type'] == -1]['12'].mean()\n",
    "m2 = basic_info.loc[basic_info['type'] ==  1]['103'].mean() / \\\n",
    "     basic_info.loc[basic_info['type'] == -1]['103'].mean()\n",
    "m3 = basic_info.loc[basic_info['type'] ==  1]['91'].mean() / \\\n",
    "     basic_info.loc[basic_info['type'] == -1]['91'].mean()\n",
    "m4 = basic_info.loc[basic_info['type'] ==  1]['6'].mean() / \\\n",
    "     basic_info.loc[basic_info['type'] == -1]['6'].mean()\n",
    "m5 = basic_info.loc[basic_info['type'] ==  1]['0'].mean() / \\\n",
    "     basic_info.loc[basic_info['type'] == -1]['0'].mean()\n",
    "\n",
    "# create a DataFrame from a 2-d ndarray\n",
    "means = pd.DataFrame(np.array([[1.00, m1], \n",
    "                               [1.00, m2], \n",
    "                               [1.00, m3],\n",
    "                               [1.00, m4],\n",
    "                               [1.00, m5],\n",
    "                              ]), \n",
    "                     columns=['News', 'Commercials'], \n",
    "                     index=['12', '103', '91', '6', '0'])\n",
    "\n",
    "print(means) \n",
    "\n",
    "means.plot(kind='bar', \n",
    "           title='Relative Means of Key Features',\n",
    "           xlabel = \"Feature #\")\n"
   ]
  },
  {
   "cell_type": "code",
   "execution_count": 75,
   "id": "competent-tamil",
   "metadata": {
    "ExecuteTime": {
     "end_time": "2021-03-24T20:46:18.914234Z",
     "start_time": "2021-03-24T20:46:18.439920Z"
    }
   },
   "outputs": [
    {
     "data": {},
     "metadata": {},
     "output_type": "display_data"
    },
    {
     "data": {
      "application/vnd.holoviews_exec.v0+json": "",
      "text/html": [
       "<div id='2155'>\n",
       "\n",
       "\n",
       "\n",
       "\n",
       "\n",
       "  <div class=\"bk-root\" id=\"89737ad9-8956-443f-8d82-56c3ed8ca994\" data-root-id=\"2155\"></div>\n",
       "</div>\n",
       "<script type=\"application/javascript\">(function(root) {\n",
       "  function embed_document(root) {\n",
       "    var docs_json = {\"b9adb9a5-a9a1-4b42-8f8f-95f0f24e7299\":{\"defs\":[{\"extends\":null,\"module\":null,\"name\":\"DataModel\",\"overrides\":[],\"properties\":[]}],\"roots\":{\"references\":[{\"attributes\":{\"data\":{\"frequency\":{\"__ndarray__\":\"lBRYANMPYEA5X+y9+FtYQG4w1GGF6lpAmyDqPgArXkDZBu5AncFhQPOQKR8CmGFAVklkH2QAYUBTPZl/dKFhQKq2m+AbB2JADoRkARNgXkA7iQj/Iu9cQDp0et6Ng11ARdeFH5z+YEDCMcueBJpdQGO4OgDin15A4zYawFunXkDiBnx+GHxdQCY1tAHY9V9Ae0s5X+xSYED61RwgmIBeQAIMy59vzFlAxouFIXI9WUD83qY/+zpeQAYwZeCA+l5Ac/c5PlpgXUA=\",\"dtype\":\"float64\",\"order\":\"little\",\"shape\":[25]},\"type\":[\"Commercials\",\"Commercials\",\"Commercials\",\"Commercials\",\"News\",\"News\",\"News\",\"News\",\"News\",\"News\",\"News\",\"News\",\"News\",\"News\",\"News\",\"News\",\"News\",\"News\",\"News\",\"News\",\"News\",\"News\",\"News\",\"News\",\"News\"]},\"selected\":{\"id\":\"2158\"},\"selection_policy\":{\"id\":\"2172\"}},\"id\":\"2157\",\"type\":\"ColumnDataSource\"},{\"attributes\":{},\"id\":\"2164\",\"type\":\"StringFormatter\"},{\"attributes\":{},\"id\":\"2172\",\"type\":\"UnionRenderers\"},{\"attributes\":{\"margin\":[5,5,5,5],\"name\":\"HSpacer04657\",\"sizing_mode\":\"stretch_width\"},\"id\":\"2156\",\"type\":\"Spacer\"},{\"attributes\":{\"margin\":[5,5,5,5],\"name\":\"HSpacer04658\",\"sizing_mode\":\"stretch_width\"},\"id\":\"2176\",\"type\":\"Spacer\"},{\"attributes\":{},\"id\":\"2160\",\"type\":\"NumberEditor\"},{\"attributes\":{\"source\":{\"id\":\"2157\"}},\"id\":\"2171\",\"type\":\"CDSView\"},{\"attributes\":{\"format\":\"0,0.0[00000]\"},\"id\":\"2159\",\"type\":\"NumberFormatter\"},{\"attributes\":{},\"id\":\"2158\",\"type\":\"Selection\"},{\"attributes\":{\"children\":[{\"id\":\"2156\"},{\"id\":\"2169\"},{\"id\":\"2176\"}],\"margin\":[0,0,0,0],\"name\":\"Row04653\",\"tags\":[\"embedded\"]},\"id\":\"2155\",\"type\":\"Row\"},{\"attributes\":{},\"id\":\"2165\",\"type\":\"StringEditor\"},{\"attributes\":{\"editor\":{\"id\":\"2160\"},\"field\":\"frequency\",\"formatter\":{\"id\":\"2159\"},\"title\":\"frequency\"},\"id\":\"2161\",\"type\":\"TableColumn\"},{\"attributes\":{\"columns\":[{\"id\":\"2161\"},{\"id\":\"2166\"}],\"height\":300,\"reorderable\":false,\"source\":{\"id\":\"2157\"},\"view\":{\"id\":\"2171\"},\"width\":700},\"id\":\"2169\",\"type\":\"DataTable\"},{\"attributes\":{\"editor\":{\"id\":\"2165\"},\"field\":\"type\",\"formatter\":{\"id\":\"2164\"},\"title\":\"type\"},\"id\":\"2166\",\"type\":\"TableColumn\"}],\"root_ids\":[\"2155\"]},\"title\":\"Bokeh Application\",\"version\":\"2.3.0\"}};\n",
       "    var render_items = [{\"docid\":\"b9adb9a5-a9a1-4b42-8f8f-95f0f24e7299\",\"root_ids\":[\"2155\"],\"roots\":{\"2155\":\"89737ad9-8956-443f-8d82-56c3ed8ca994\"}}];\n",
       "    root.Bokeh.embed.embed_items_notebook(docs_json, render_items);\n",
       "  }\n",
       "  if (root.Bokeh !== undefined && root.Bokeh.Panel !== undefined) {\n",
       "    embed_document(root);\n",
       "  } else {\n",
       "    var attempts = 0;\n",
       "    var timer = setInterval(function(root) {\n",
       "      if (root.Bokeh !== undefined && root.Bokeh.Panel !== undefined) {\n",
       "        clearInterval(timer);\n",
       "        embed_document(root);\n",
       "      } else if (document.readyState == \"complete\") {\n",
       "        attempts++;\n",
       "        if (attempts > 100) {\n",
       "          clearInterval(timer);\n",
       "          console.log(\"Bokeh: ERROR: Unable to run BokehJS code because BokehJS library is missing\");\n",
       "        }\n",
       "      }\n",
       "    }, 10, root)\n",
       "  }\n",
       "})(window);</script>"
      ],
      "text/plain": [
       ":Table   [frequency,type]"
      ]
     },
     "metadata": {
      "application/vnd.holoviews_exec.v0+json": {
       "id": "2155"
      }
     },
     "output_type": "display_data"
    },
    {
     "data": {
      "text/html": [
       "<div>\n",
       "<style scoped>\n",
       "    .dataframe tbody tr th:only-of-type {\n",
       "        vertical-align: middle;\n",
       "    }\n",
       "\n",
       "    .dataframe tbody tr th {\n",
       "        vertical-align: top;\n",
       "    }\n",
       "\n",
       "    .dataframe thead th {\n",
       "        text-align: right;\n",
       "    }\n",
       "</style>\n",
       "<table border=\"1\" class=\"dataframe\">\n",
       "  <thead>\n",
       "    <tr style=\"text-align: right;\">\n",
       "      <th></th>\n",
       "      <th>frequency</th>\n",
       "    </tr>\n",
       "  </thead>\n",
       "  <tbody>\n",
       "    <tr>\n",
       "      <th>count</th>\n",
       "      <td>6466.000000</td>\n",
       "    </tr>\n",
       "    <tr>\n",
       "      <th>mean</th>\n",
       "      <td>123.048177</td>\n",
       "    </tr>\n",
       "    <tr>\n",
       "      <th>std</th>\n",
       "      <td>17.330848</td>\n",
       "    </tr>\n",
       "    <tr>\n",
       "      <th>min</th>\n",
       "      <td>57.877842</td>\n",
       "    </tr>\n",
       "    <tr>\n",
       "      <th>25%</th>\n",
       "      <td>111.972416</td>\n",
       "    </tr>\n",
       "    <tr>\n",
       "      <th>50%</th>\n",
       "      <td>123.896442</td>\n",
       "    </tr>\n",
       "    <tr>\n",
       "      <th>75%</th>\n",
       "      <td>135.602165</td>\n",
       "    </tr>\n",
       "    <tr>\n",
       "      <th>max</th>\n",
       "      <td>192.615387</td>\n",
       "    </tr>\n",
       "  </tbody>\n",
       "</table>\n",
       "</div>"
      ],
      "text/plain": [
       "         frequency\n",
       "count  6466.000000\n",
       "mean    123.048177\n",
       "std      17.330848\n",
       "min      57.877842\n",
       "25%     111.972416\n",
       "50%     123.896442\n",
       "75%     135.602165\n",
       "max     192.615387"
      ]
     },
     "metadata": {},
     "output_type": "display_data"
    },
    {
     "data": {
      "text/html": [
       "<div>\n",
       "<style scoped>\n",
       "    .dataframe tbody tr th:only-of-type {\n",
       "        vertical-align: middle;\n",
       "    }\n",
       "\n",
       "    .dataframe tbody tr th {\n",
       "        vertical-align: top;\n",
       "    }\n",
       "\n",
       "    .dataframe thead th {\n",
       "        text-align: right;\n",
       "    }\n",
       "</style>\n",
       "<table border=\"1\" class=\"dataframe\">\n",
       "  <thead>\n",
       "    <tr style=\"text-align: right;\">\n",
       "      <th></th>\n",
       "      <th>frequency</th>\n",
       "    </tr>\n",
       "  </thead>\n",
       "  <tbody>\n",
       "    <tr>\n",
       "      <th>count</th>\n",
       "      <td>7241.000000</td>\n",
       "    </tr>\n",
       "    <tr>\n",
       "      <th>mean</th>\n",
       "      <td>112.183122</td>\n",
       "    </tr>\n",
       "    <tr>\n",
       "      <th>std</th>\n",
       "      <td>18.746640</td>\n",
       "    </tr>\n",
       "    <tr>\n",
       "      <th>min</th>\n",
       "      <td>45.509613</td>\n",
       "    </tr>\n",
       "    <tr>\n",
       "      <th>25%</th>\n",
       "      <td>98.702995</td>\n",
       "    </tr>\n",
       "    <tr>\n",
       "      <th>50%</th>\n",
       "      <td>112.403168</td>\n",
       "    </tr>\n",
       "    <tr>\n",
       "      <th>75%</th>\n",
       "      <td>125.258949</td>\n",
       "    </tr>\n",
       "    <tr>\n",
       "      <th>max</th>\n",
       "      <td>194.318634</td>\n",
       "    </tr>\n",
       "  </tbody>\n",
       "</table>\n",
       "</div>"
      ],
      "text/plain": [
       "         frequency\n",
       "count  7241.000000\n",
       "mean    112.183122\n",
       "std      18.746640\n",
       "min      45.509613\n",
       "25%      98.702995\n",
       "50%     112.403168\n",
       "75%     125.258949\n",
       "max     194.318634"
      ]
     },
     "metadata": {},
     "output_type": "display_data"
    },
    {
     "data": {
      "text/plain": [
       "<AxesSubplot:xlabel='Commercials | News', ylabel='frequency'>"
      ]
     },
     "execution_count": 75,
     "metadata": {},
     "output_type": "execute_result"
    },
    {
     "data": {
      "image/png": "[encoded data removed]",
      "text/plain": [
       "<Figure size 1296x864 with 1 Axes>"
      ]
     },
     "metadata": {
      "needs_background": "light"
     },
     "output_type": "display_data"
    }
   ],
   "source": [
    "# I'm also curious about the fundamental frequency - at least that's an understandable statistic.\n",
    "# Do a split violin on the mean fundamental frequency, and clean up for plotting.\n",
    "\n",
    "freq = pd.DataFrame(X[:,[15]].toarray(), columns=['frequency'])\n",
    "stype = pd.DataFrame(y, columns=['type'])\n",
    "\n",
    "# Make it more readable\n",
    "stype.loc[stype['type']==-1,'type'] = 'News'\n",
    "stype.loc[stype['type']== 1,'type'] = 'Commercials'\n",
    "\n",
    "# Put together and drop anything under 40 Hz - must be dead air anyway\n",
    "fund_freq = pd.concat([freq, stype], axis=1)\n",
    "\n",
    "zeroes = fund_freq[fund_freq['frequency'] < 40].index\n",
    "fund_freq.drop(zeroes, inplace=True)\n",
    "\n",
    "display(fund_freq[325:350].hvplot.table())\n",
    "\n",
    "display(fund_freq[fund_freq['type']=='News'].describe())\n",
    "display(fund_freq[fund_freq['type']=='Commercials'].describe())\n",
    "\n",
    "# Dummy to work around single violin plot bug in Seaborn\n",
    "fund_freq['Commercials | News'] = 1\n",
    "\n",
    "plt.figure(figsize=(18,12))\n",
    "#plt.subplot(2,3,1)\n",
    "sns.violinplot(x='Commercials | News', y='frequency', data=fund_freq, palette=\"Set3\",  hue=\"type\", split=True)\n"
   ]
  },
  {
   "cell_type": "code",
   "execution_count": 7,
   "id": "exterior-volume",
   "metadata": {
    "ExecuteTime": {
     "end_time": "2021-05-21T19:48:16.882609Z",
     "start_time": "2021-05-21T19:48:11.771447Z"
    }
   },
   "outputs": [
    {
     "data": {
      "text/plain": [
       "<AxesSubplot:title={'center':'MFCC BoW - Number of non-zero entries'}, xlabel='Feature Number'>"
      ]
     },
     "execution_count": 7,
     "metadata": {},
     "output_type": "execute_result"
    },
    {
     "data": {
      "image/png": "[encoded data removed]",
      "text/plain": [
       "<Figure size 1080x504 with 1 Axes>"
      ]
     },
     "metadata": {
      "needs_background": "light"
     },
     "output_type": "display_data"
    }
   ],
   "source": [
    "# Plot the frequency of the BoW\n",
    "\n",
    "bow_freq[['news','commercials']].plot(kind='bar', figsize=(15,7), title='MFCC BoW - Number of non-zero entries', xlabel='Feature Number')"
   ]
  },
  {
   "cell_type": "markdown",
   "id": "republican-husband",
   "metadata": {
    "ExecuteTime": {
     "end_time": "2021-02-25T17:32:33.231502Z",
     "start_time": "2021-02-25T17:32:33.223772Z"
    }
   },
   "source": [
    "3. Model your outcome of interest. You should try several different approaches and really work to tune a variety of models before using the model evaluation techniques to choose what you consider to be the best performer. Make sure to think about explanatory versus predictive power, and experiment with both.\n",
    "\n",
    "I went back and reviewed the various categorical models that we learned about in the supervised learning module, and the sklearn routines used to implement them:\n",
    "\n",
    "* Logistic regression (`LogisticRegression`)\n",
    "* k-nearest neighbor (`KNeighborsClassifier`)\n",
    "* Linear support vector machine (`LinearSVC`)\n",
    "* Single decision tree (`DecisionTreeClassifier`)\n",
    "* Random forest (`RandomForestClassifier`)\n",
    "* Gradient boosting of weak trees (`GradientBoostingClassifier`)\n",
    "\n",
    "All these routines were able to handle the sparse matrix data format with no special handling. \n",
    "\n",
    "The data set was large enough to permit splitting into distinct training and testing sets. I used the sklearn `GridSearchCV` routine to iterate through a variety of parameters for each model and test each variation with 5-fold cross-validation.  Once I found the best parameters (subject to a \"reasonable\" run time), I \"locked in\" those parameters in the code shown below.  \n",
    "\n",
    "Since it was a relatively balanced dataset (roughly 70% devoted to news and 30% to commercials), I used R-squared as a score for the quality of the model.  After training, I ran the models on test data (data not used in training) to confirm that the models were not overfitting (which, it appears, they were not, as performance on training and test data was fairly close).\n",
    "\n",
    "On the BBC data, I had the following results (ordered from worst to best R-squared scores on the training data):\n",
    "\n",
    "| Model      | Key Parameters              | R-squared (train) | R-squared (test) | Run Time (sec) |\n",
    "| :-------   | :------------:              |      :-----:      |     :-----:      |  -----:        |\n",
    "| KNN        | 11 neighbors, uniform wgt   |      85.7%        |     82.9%        |      43        |\n",
    "| Linear SVC | 440 iterations, L2          |      86.0%        |     85.9%        |      25        |\n",
    "| Logistic   | 442 iterations, L2          |      86.1%        |     85.8%        |       4        |\n",
    "| Tree       | gini, max depth 8           |      89.0%        |     85.0%        |       3        |\n",
    "| Grad. Boost| 300 estim, max depth 4      |      93.0%        |     88.8%        |     226        |\n",
    "| Forest     | 100 estim, max depth 11     |      94.9%        |     88.3%        |      68        |\n",
    "\n",
    "\n",
    "Some additional observations [NEED TO REWRITE AT END]:\n",
    "\n",
    "* KNN did not have performance comparable to the other models.\n",
    "* I found that for the non-tree models (logistic, KNN, Linear SVC) it was very important to regularize the data.  For the trees, it made no difference on the training and little difference on the test data.\n",
    "* Logistic regression required a huge number of iterations, and still did not appear to fully converge, until I regularized the data, at which point it became very efficient.\n",
    "* Although I expected Linear SVC to do well (as that is what the authors apparently used), it did no better than a decision tree, with more than double the run time.\n",
    "* Single tree does best on training, but may be over-fitting somewhat. Average of cross-validation on training was much closer to results on test data.\n",
    "* A random forest model did slightly better than a single tree, but at a huge cost in processing time.\n",
    "* Gradient boosting did best in terms of performance.  Depending on the situation, speed for it could be seens as acceptable (a bit faster than random forest) or too slow (a tree does almost as well, in **very** little time).\n"
   ]
  },
  {
   "cell_type": "code",
   "execution_count": 8,
   "id": "sonic-interpretation",
   "metadata": {
    "ExecuteTime": {
     "end_time": "2021-05-21T19:48:24.981933Z",
     "start_time": "2021-05-21T19:48:24.932795Z"
    }
   },
   "outputs": [
    {
     "data": {
      "text/plain": [
       "scipy.sparse.csr.csr_matrix"
      ]
     },
     "execution_count": 8,
     "metadata": {},
     "output_type": "execute_result"
    }
   ],
   "source": [
    "# Split into training and test sets\n",
    "X_train, X_test, y_train, y_test = train_test_split(X, y, random_state=13)  # random_state just for reproducibility\n",
    "\n",
    "type(X_train)  # After splitting the data types remain unchanged\n"
   ]
  },
  {
   "cell_type": "code",
   "execution_count": 9,
   "id": "original-conditioning",
   "metadata": {
    "ExecuteTime": {
     "end_time": "2021-05-21T19:48:27.832169Z",
     "start_time": "2021-05-21T19:48:27.708525Z"
    }
   },
   "outputs": [],
   "source": [
    "# Prepare scaled versions of the data as well, separately for training and testing\n",
    "scaler = preprocessing.StandardScaler(with_mean=False).fit(X_train)  # Apparently with_mean=False needed for sparse matrices\n",
    "X_train_scaled = scaler.transform(X_train)\n",
    "\n",
    "scaler = preprocessing.StandardScaler(with_mean=False).fit(X_test) \n",
    "X_test_scaled = scaler.transform(X_test)\n"
   ]
  },
  {
   "cell_type": "code",
   "execution_count": 10,
   "id": "lucky-engagement",
   "metadata": {
    "ExecuteTime": {
     "end_time": "2021-05-21T19:49:16.860817Z",
     "start_time": "2021-05-21T19:48:36.924825Z"
    }
   },
   "outputs": [
    {
     "name": "stdout",
     "output_type": "stream",
     "text": [
      "R^2 Training:   0.8573363431151242\n",
      "R^2 Test:       0.8288939051918736\n"
     ]
    }
   ],
   "source": [
    "# Try a KNN classifier\n",
    "\n",
    "# kn = KNeighborsClassifier(\n",
    "# #                           n_neighbors=5,\n",
    "# #                           weights='uniform', \n",
    "#                           algorithm='auto', \n",
    "#                           leaf_size=30, \n",
    "#                           p=2, \n",
    "#                           metric='minkowski', \n",
    "#                           metric_params=None, \n",
    "#                           n_jobs=-1,            # Didn't seem to speed up much...\n",
    "#                           )\n",
    "# params = {\n",
    "#     'n_neighbors':range(10,13), \n",
    "#     'weights':['uniform','distance'],  \n",
    "# }\n",
    "# kng = GridSearchCV(kn, params, n_jobs=-1, cv=5, verbose=1, refit=True)\n",
    "# kng.fit(X_train, y_train)\n",
    "# test_score = kng.best_estimator_.score(X_test, y_test)\n",
    "# print(\"Best Estimator:\", kng.best_estimator_) \n",
    "# print(\"  Params:      \", kng.best_params_)\n",
    "# print(\"R^2 Training:  \", kng.best_score_)           \n",
    "# print(\"R^2 Test:      \", test_score)                \n",
    "# Best Estimator: KNeighborsClassifier(n_neighbors=11)\n",
    "#   Params:       {'n_neighbors': 11, 'weights': 'uniform'}\n",
    "\n",
    "# Lock in best parameters:\n",
    "knb = KNeighborsClassifier(n_neighbors=11,\n",
    "                           weights='uniform', \n",
    "                           algorithm='auto', \n",
    "                           leaf_size=30, \n",
    "                           p=2, \n",
    "                           metric='minkowski', \n",
    "                           metric_params=None, \n",
    "                           n_jobs=-1,\n",
    "                          )\n",
    "knb.fit(X_train_scaled, y_train)\n",
    "print(\"R^2 Training:  \", knb.score(X_train_scaled, y_train))      \n",
    "print(\"R^2 Test:      \", knb.score(X_test_scaled, y_test))   \n",
    "# R^2 Training:   0.8573363431151242\n",
    "# R^2 Test:       0.8288939051918736"
   ]
  },
  {
   "cell_type": "code",
   "execution_count": 11,
   "id": "intellectual-bangkok",
   "metadata": {
    "ExecuteTime": {
     "end_time": "2021-05-21T19:51:03.929519Z",
     "start_time": "2021-05-21T19:50:27.189525Z"
    }
   },
   "outputs": [
    {
     "name": "stdout",
     "output_type": "stream",
     "text": [
      "# of iterations 448\n",
      "R^2 Training:   0.8604213694507148\n",
      "R^2 Test:       0.8586907449209932\n"
     ]
    }
   ],
   "source": [
    "# Now try linear SVC\n",
    "# sv = LinearSVC(penalty='l2', \n",
    "#                loss='squared_hinge', \n",
    "# #               dual=True, \n",
    "#                tol=0.0001, \n",
    "# #               C=1.0, \n",
    "#                multi_class='ovr', \n",
    "#                fit_intercept=True, \n",
    "#                intercept_scaling=1, \n",
    "#                class_weight=None, \n",
    "#                verbose=1,              \n",
    "#                random_state=13,        # For reproducibility\n",
    "#                max_iter=500            # Default is 1000\n",
    "#               ) \n",
    "# params = {\n",
    "#    'dual':[True, False],\n",
    "#    'C':np.arange(.5,1.05,.1),\n",
    "# }\n",
    "# svg = GridSearchCV(sv, params, n_jobs=-1, cv=5, verbose=1, refit=True)\n",
    "# svg.fit(X_train, y_train)\n",
    "# print('# of iterations %s' % svg.best_estimator_.n_iter_)\n",
    "# print(\"Best Estimator:\", svg.best_estimator_) \n",
    "# print(\"  Params:      \", svg.best_params_)\n",
    "# print(\"R^2 Training:  \", svg.best_score_)           \n",
    "# print(\"R^2 Test:      \", svg.best_estimator_.score(X_test, y_test))\n",
    "# Fitting 5 folds for each of 12 candidates, totalling 60 fits\n",
    "# [LibLinear]# of iterations 52\n",
    "# Best Estimator: LinearSVC(C=0.7, dual=False, max_iter=500, random_state=13, verbose=1)\n",
    "#   Params:       {'C': 0.7, 'dual': False}\n",
    "\n",
    "# Lock in parameters\n",
    "svb = LinearSVC(penalty='l2', \n",
    "                loss='squared_hinge', \n",
    "                dual=False, \n",
    "                tol=0.0001, \n",
    "                C=0.7, \n",
    "                multi_class='ovr', \n",
    "                fit_intercept=True, \n",
    "                intercept_scaling=1, \n",
    "                class_weight=None, \n",
    "                verbose=0,              # Doesn't seem to show much...\n",
    "                random_state=13,        # For reproducibility\n",
    "                max_iter=500           \n",
    "              ) \n",
    "svb.fit(X_train_scaled, y_train)\n",
    "print('# of iterations %s' % svb.n_iter_)\n",
    "print(\"R^2 Training:  \", svb.score(X_train_scaled, y_train))      \n",
    "print(\"R^2 Test:      \", svb.score(X_test_scaled, y_test))\n",
    "# [LibLinear]# of iterations 440\n",
    "# R^2 Training:   0.8603461249059443\n",
    "# R^2 Test:       0.8589164785553047\n"
   ]
  },
  {
   "cell_type": "code",
   "execution_count": 12,
   "id": "continued-environment",
   "metadata": {
    "ExecuteTime": {
     "end_time": "2021-05-21T19:51:20.216974Z",
     "start_time": "2021-05-21T19:51:14.850772Z"
    }
   },
   "outputs": [
    {
     "name": "stdout",
     "output_type": "stream",
     "text": [
      "# of iterations 438\n",
      "R^2 Training:   0.8611738148984198\n",
      "R^2 Test:       0.8582392776523702\n"
     ]
    }
   ],
   "source": [
    "# Try logistic regression\n",
    "\n",
    "# lr = LogisticRegression(\n",
    "# #                       penalty='l2', \n",
    "#                         dual=False, \n",
    "#                         tol=0.0001, \n",
    "# #                        C=1.0, \n",
    "#                         fit_intercept=True, \n",
    "#                         intercept_scaling=1, \n",
    "#                         class_weight=None, \n",
    "#                         random_state=None, \n",
    "#                         solver='lbfgs', \n",
    "#                         max_iter=500,                 # Default is 100\n",
    "#                         multi_class='auto', \n",
    "#                         verbose=1, \n",
    "#                         warm_start=False, \n",
    "#                         n_jobs=None, \n",
    "#                         l1_ratio=None\n",
    "#                        )\n",
    "# params = {\n",
    "#     'penalty':[None, 'l2'],\n",
    "#     'C':np.arange(.5,1.05,.1),\n",
    "# }\n",
    "# lrg = GridSearchCV(lr, params, n_jobs=-1, cv=5, verbose=1, refit=True)\n",
    "# lrg.fit(X_train, y_train)\n",
    "# test_score = lrg.best_estimator_.score(X_test, y_test)\n",
    "# print('# of iterations %s' % lrg.best_estimator_.n_iter_[0])\n",
    "# print(\"Best Estimator:\", lrg.best_estimator_) \n",
    "# print(\"  Params:      \", lrg.best_params_)\n",
    "# print(\"R^2 Training:  \", lrg.best_score_)      \n",
    "# print(\"R^2 Test:      \", test_score)\n",
    "# Final output:\n",
    "# of iterations 442\n",
    "# Best Estimator: LogisticRegression(C=0.7, max_iter=500, verbose=1)\n",
    "#   Params:       {'C': 0.7, 'penalty': 'l2'}\n",
    "    \n",
    "# Lock-in parameters:\n",
    "lrb = LogisticRegression(\n",
    "                         penalty='l2', \n",
    "                         C=0.7,\n",
    "                         max_iter=500\n",
    ")\n",
    "lrb.fit(X_train_scaled, y_train)\n",
    "print('# of iterations %s' % lrb.n_iter_[0])\n",
    "print(\"R^2 Training:  \", lrb.score(X_train_scaled, y_train))      \n",
    "print(\"R^2 Test:      \", lrb.score(X_test_scaled, y_test))   \n",
    "# # of iterations 442\n",
    "# R^2 Training:   0.8611738148984198\n",
    "# R^2 Test:       0.8582392776523702"
   ]
  },
  {
   "cell_type": "code",
   "execution_count": 13,
   "id": "literary-washington",
   "metadata": {
    "ExecuteTime": {
     "end_time": "2021-05-21T19:51:48.880323Z",
     "start_time": "2021-05-21T19:51:43.492918Z"
    }
   },
   "outputs": [
    {
     "name": "stdout",
     "output_type": "stream",
     "text": [
      "R^2 Training:   0.8896162528216705\n",
      "R^2 Test:       0.8496613995485327\n"
     ]
    }
   ],
   "source": [
    "# Try a decision tree:\n",
    "# dt = tree.DecisionTreeClassifier(\n",
    "# #                            criterion='gini', \n",
    "#                             splitter='best', \n",
    "# #                            max_depth=None, \n",
    "#                             min_samples_split=2, \n",
    "#                             min_samples_leaf=1, \n",
    "#                             min_weight_fraction_leaf=0.0, \n",
    "# #                            max_features=None, \n",
    "#                             random_state=13,                  # for reproducibility \n",
    "#                             max_leaf_nodes=None, \n",
    "#                             min_impurity_decrease=0.0, \n",
    "#                             min_impurity_split=None, \n",
    "#                             class_weight=None, \n",
    "#                             ccp_alpha=0.0\n",
    "#                            )\n",
    "# params = {\n",
    "#    'criterion':['entropy', 'gini'],   \n",
    "#    'max_depth':range(7,10),\n",
    "#    'max_features':[None,'auto'],\n",
    "# }\n",
    "# dtg = GridSearchCV(dt, params, n_jobs=-1, cv=5, verbose=1, refit=True)\n",
    "# dtg.fit(X_train, y_train)\n",
    "# print(\"Best Estimator:\", dtg.best_estimator_) \n",
    "# print(\"  Params:      \", dtg.best_params_)\n",
    "# print(\"R^2 Training:  \", dtg.best_score_)           \n",
    "# print(\"R^2 Test:      \", dtg.best_estimator_.score(X_test, y_test))\n",
    "# print(\"\\n\")\n",
    "# Fitting 5 folds for each of 12 candidates, totalling 60 fits\n",
    "# Best Estimator: DecisionTreeClassifier(criterion='entropy', max_depth=8, random_state=13)\n",
    "#   Params:       {'criterion': 'entropy', 'max_depth': 8, 'max_features': None}\n",
    "\n",
    "# Lock in best parameters:\n",
    "dtb = tree.DecisionTreeClassifier(\n",
    "                            criterion='entropy', \n",
    "                            splitter='best', \n",
    "                            max_depth=8, \n",
    "                            min_samples_split=2, \n",
    "                            min_samples_leaf=1, \n",
    "                            min_weight_fraction_leaf=0.0, \n",
    "                            max_features=None, \n",
    "                            random_state=13,                  # for reproducibility \n",
    "                            max_leaf_nodes=None, \n",
    "                            min_impurity_decrease=0.0, \n",
    "                            min_impurity_split=None, \n",
    "                            class_weight=None, \n",
    "                            ccp_alpha=0.0\n",
    "                           )\n",
    "dtb.fit(X_train, y_train)\n",
    "print(\"R^2 Training:  \", dtb.score(X_train, y_train))      \n",
    "print(\"R^2 Test:      \", dtb.score(X_test, y_test))   \n",
    "# R^2 Training:   0.8896162528216705\n",
    "# R^2 Test:       0.8496613995485327\n"
   ]
  },
  {
   "cell_type": "code",
   "execution_count": 14,
   "id": "excited-glance",
   "metadata": {
    "ExecuteTime": {
     "end_time": "2021-05-21T19:51:52.698024Z",
     "start_time": "2021-05-21T19:51:52.677906Z"
    }
   },
   "outputs": [
    {
     "data": {
      "text/plain": [
       "12      0.242240\n",
       "103     0.142781\n",
       "91      0.109688\n",
       "6       0.091678\n",
       "90      0.046428\n",
       "0       0.039729\n",
       "923     0.039195\n",
       "117     0.027849\n",
       "958     0.022609\n",
       "98      0.020835\n",
       "175     0.014776\n",
       "102     0.012417\n",
       "30      0.011451\n",
       "346     0.010002\n",
       "14      0.009679\n",
       "101     0.009226\n",
       "94      0.007997\n",
       "118     0.007607\n",
       "1047    0.006634\n",
       "490     0.005348\n",
       "579     0.005077\n",
       "295     0.005046\n",
       "622     0.004981\n",
       "4123    0.004775\n",
       "16      0.004759\n",
       "85      0.004662\n",
       "5       0.004616\n",
       "4124    0.004356\n",
       "184     0.004197\n",
       "447     0.004052\n",
       "99      0.003933\n",
       "89      0.003546\n",
       "105     0.003213\n",
       "106     0.003058\n",
       "59      0.003004\n",
       "57      0.002892\n",
       "233     0.002873\n",
       "77      0.002465\n",
       "7       0.002283\n",
       "21      0.002281\n",
       "83      0.002238\n",
       "116     0.002147\n",
       "100     0.001931\n",
       "104     0.001798\n",
       "725     0.001700\n",
       "55      0.001638\n",
       "53      0.001597\n",
       "66      0.001578\n",
       "78      0.001538\n",
       "8       0.001498\n",
       "19      0.001484\n",
       "220     0.001404\n",
       "32      0.001367\n",
       "3       0.001366\n",
       "96      0.001350\n",
       "82      0.001331\n",
       "11      0.001271\n",
       "571     0.001269\n",
       "40      0.001253\n",
       "1       0.001229\n",
       "1015    0.001228\n",
       "114     0.001143\n",
       "109     0.001052\n",
       "22      0.001038\n",
       "870     0.001003\n",
       "20      0.000984\n",
       "46      0.000984\n",
       "79      0.000943\n",
       "18      0.000913\n",
       "75      0.000833\n",
       "72      0.000736\n",
       "141     0.000736\n",
       "275     0.000687\n",
       "4       0.000665\n",
       "239     0.000596\n",
       "633     0.000594\n",
       "49      0.000414\n",
       "122     0.000229\n",
       "2851    0.000000\n",
       "2767    0.000000\n",
       "dtype: float64"
      ]
     },
     "metadata": {},
     "output_type": "display_data"
    }
   ],
   "source": [
    "# Look at most important features from the tree\n",
    "\n",
    "# Need to refer back to definition of each column, remembering that numbers here are one-off from those.\n",
    "with pd.option_context('display.max_rows', None, 'display.max_columns', None):\n",
    "    display(pd.Series(dtb.feature_importances_).sort_values(ascending=False)[0:80])\n",
    "\n",
    "# It looks like 78 features are useful; features after that apparently are not used at all in the tree.\n"
   ]
  },
  {
   "cell_type": "code",
   "execution_count": 15,
   "id": "floating-occasion",
   "metadata": {
    "ExecuteTime": {
     "end_time": "2021-05-21T20:00:00.591112Z",
     "start_time": "2021-05-21T19:52:23.077558Z"
    }
   },
   "outputs": [
    {
     "name": "stdout",
     "output_type": "stream",
     "text": [
      "R^2 Training:   0.9304740406320542\n",
      "R^2 Test:       0.8882618510158014\n"
     ]
    }
   ],
   "source": [
    "# Try Gradient Boosting\n",
    "# gb = ensemble.GradientBoostingClassifier(loss='deviance', \n",
    "#                                          learning_rate=0.1, \n",
    "# #                                         n_estimators=100, \n",
    "#                                          subsample=1.0, \n",
    "#                                          criterion='friedman_mse', \n",
    "#                                          min_samples_split=2, \n",
    "#                                          min_samples_leaf=1, \n",
    "#                                          min_weight_fraction_leaf=0.0, \n",
    "# #                                 max_depth=3, \n",
    "#                                          min_impurity_decrease=0.0, \n",
    "#                                          min_impurity_split=None, \n",
    "#                                          init=None, \n",
    "#                                          random_state=13, \n",
    "# #                                 max_features=None, \n",
    "#                                          verbose=1, \n",
    "#                                          max_leaf_nodes=None, \n",
    "#                                          warm_start=False, \n",
    "#                                          validation_fraction=0.1, \n",
    "#                                          n_iter_no_change=None, \n",
    "#                                          tol=0.0001, \n",
    "#                                          ccp_alpha=0.0,\n",
    "#                                         )\n",
    "# params = {\n",
    "#     'n_estimators':[200,300],        # 500 didn't improve much beyond 200\n",
    "#     'max_depth':[3,4],               # 3 is close, 2 noticeably worse\n",
    "#     'max_features':[None,'auto'],   \n",
    "# #     'n_estimators':[100], \n",
    "# #     'max_depth':[4],      \n",
    "# #     'max_features':[None],  \n",
    "# }\n",
    "\n",
    "# gbg = GridSearchCV(gb, params, n_jobs=-1, cv=5, verbose=1)\n",
    "# gbg.fit(X_train, y_train)\n",
    "\n",
    "# test_score = gbg.best_estimator_.score(X_test, y_test)\n",
    "\n",
    "# print(\"Best Estimator:\", gbg.best_estimator_) \n",
    "# print(\"  Params:      \", gbg.best_params_)\n",
    "# print(\"R^2 Training:  \", gbg.best_score_)           # about 88% - almost same as forest\n",
    "# print(\"R^2 Test:      \", test_score)                # about 88% - so not overfitting\n",
    "# print(\"\\n\")\n",
    "# Best Estimator: GradientBoostingClassifier(max_depth=4, n_estimators=300, random_state=13,\n",
    "#                            verbose=1)\n",
    "#   Params:       {'max_depth': 4, 'max_features': None, 'n_estimators': 300}\n",
    "\n",
    "# Lock in parameters\n",
    "gbb = ensemble.GradientBoostingClassifier(loss='deviance', \n",
    "                                          learning_rate=0.1, \n",
    "                                          n_estimators=300, \n",
    "                                          subsample=1.0, \n",
    "                                          criterion='friedman_mse', \n",
    "                                          min_samples_split=2, \n",
    "                                          min_samples_leaf=1, \n",
    "                                          min_weight_fraction_leaf=0.0, \n",
    "                                          max_depth=4, \n",
    "                                          min_impurity_decrease=0.0, \n",
    "                                          min_impurity_split=None, \n",
    "                                          init=None, \n",
    "                                          random_state=13, \n",
    "                                          max_features=None, \n",
    "                                          verbose=0, \n",
    "                                          max_leaf_nodes=None, \n",
    "                                          warm_start=False, \n",
    "                                          validation_fraction=0.1, \n",
    "                                          n_iter_no_change=None, \n",
    "                                          tol=0.0001, \n",
    "                                          ccp_alpha=0.0,\n",
    "                                         )\n",
    "gbb.fit(X_train, y_train)\n",
    "print(\"R^2 Training:  \", gbb.score(X_train, y_train))      \n",
    "print(\"R^2 Test:      \", gbb.score(X_test, y_test))\n",
    "# R^2 Training:   0.9304740406320542\n",
    "# R^2 Test:       0.8882618510158014\n"
   ]
  },
  {
   "cell_type": "code",
   "execution_count": 16,
   "id": "directed-footwear",
   "metadata": {
    "ExecuteTime": {
     "end_time": "2021-05-21T20:00:01.200400Z",
     "start_time": "2021-05-21T20:00:00.600008Z"
    }
   },
   "outputs": [
    {
     "data": {
      "text/plain": [
       "<AxesSubplot:title={'center':'Features - Relative Importance'}, ylabel='Feature Index'>"
      ]
     },
     "execution_count": 16,
     "metadata": {},
     "output_type": "execute_result"
    },
    {
     "data": {
      "image/png": "[encoded data removed]",
      "text/plain": [
       "<Figure size 504x504 with 1 Axes>"
      ]
     },
     "metadata": {
      "needs_background": "light"
     },
     "output_type": "display_data"
    }
   ],
   "source": [
    "# Examine most important features for gradient boosting - relative value\n",
    "# Note that list is slightly different from the list for the single tree\n",
    "# Pick off top 20 and graph them\n",
    "\n",
    "feature_importance = 100.0 * (gbb.feature_importances_ / gbb.feature_importances_.max())\n",
    "\n",
    "top_features = pd.Series(feature_importance).sort_values(ascending=False)[0:20][::-1]   \n",
    "\n",
    "top_features.plot(kind='barh', figsize=(7,7), title='Features - Relative Importance', xlabel='Feature Index')\n"
   ]
  },
  {
   "cell_type": "code",
   "execution_count": 17,
   "id": "pretty-geology",
   "metadata": {
    "ExecuteTime": {
     "end_time": "2021-05-21T20:21:27.152759Z",
     "start_time": "2021-05-21T20:00:26.989068Z"
    }
   },
   "outputs": [
    {
     "name": "stdout",
     "output_type": "stream",
     "text": [
      "Fitting 5 folds for each of 4 candidates, totalling 20 fits\n"
     ]
    },
    {
     "ename": "KeyboardInterrupt",
     "evalue": "",
     "output_type": "error",
     "traceback": [
      "\u001b[0;31m---------------------------------------------------------------------------\u001b[0m",
      "\u001b[0;31mKeyboardInterrupt\u001b[0m                         Traceback (most recent call last)",
      "\u001b[0;32m<ipython-input-17-423618bbde10>\u001b[0m in \u001b[0;36m<module>\u001b[0;34m\u001b[0m\n\u001b[1;32m     27\u001b[0m }\n\u001b[1;32m     28\u001b[0m \u001b[0mrfg\u001b[0m \u001b[0;34m=\u001b[0m \u001b[0mGridSearchCV\u001b[0m\u001b[0;34m(\u001b[0m\u001b[0mrf\u001b[0m\u001b[0;34m,\u001b[0m \u001b[0mparams\u001b[0m\u001b[0;34m,\u001b[0m \u001b[0mn_jobs\u001b[0m\u001b[0;34m=\u001b[0m\u001b[0;34m-\u001b[0m\u001b[0;36m1\u001b[0m\u001b[0;34m,\u001b[0m \u001b[0mcv\u001b[0m\u001b[0;34m=\u001b[0m\u001b[0;36m5\u001b[0m\u001b[0;34m,\u001b[0m \u001b[0mverbose\u001b[0m\u001b[0;34m=\u001b[0m\u001b[0;36m1\u001b[0m\u001b[0;34m)\u001b[0m\u001b[0;34m\u001b[0m\u001b[0;34m\u001b[0m\u001b[0m\n\u001b[0;32m---> 29\u001b[0;31m \u001b[0mrfg\u001b[0m\u001b[0;34m.\u001b[0m\u001b[0mfit\u001b[0m\u001b[0;34m(\u001b[0m\u001b[0mX_train\u001b[0m\u001b[0;34m,\u001b[0m \u001b[0my_train\u001b[0m\u001b[0;34m)\u001b[0m\u001b[0;34m\u001b[0m\u001b[0;34m\u001b[0m\u001b[0m\n\u001b[0m\u001b[1;32m     30\u001b[0m \u001b[0mprint\u001b[0m\u001b[0;34m(\u001b[0m\u001b[0;34m\"Best Estimator:\"\u001b[0m\u001b[0;34m,\u001b[0m \u001b[0mrfg\u001b[0m\u001b[0;34m.\u001b[0m\u001b[0mbest_estimator_\u001b[0m\u001b[0;34m)\u001b[0m\u001b[0;34m\u001b[0m\u001b[0;34m\u001b[0m\u001b[0m\n\u001b[1;32m     31\u001b[0m \u001b[0mprint\u001b[0m\u001b[0;34m(\u001b[0m\u001b[0;34m\"  Params:      \"\u001b[0m\u001b[0;34m,\u001b[0m \u001b[0mrfg\u001b[0m\u001b[0;34m.\u001b[0m\u001b[0mbest_params_\u001b[0m\u001b[0;34m)\u001b[0m\u001b[0;34m\u001b[0m\u001b[0;34m\u001b[0m\u001b[0m\n",
      "\u001b[0;32m~/miniconda3/envs/latest/lib/python3.8/site-packages/sklearn/utils/validation.py\u001b[0m in \u001b[0;36minner_f\u001b[0;34m(*args, **kwargs)\u001b[0m\n\u001b[1;32m     61\u001b[0m             \u001b[0mextra_args\u001b[0m \u001b[0;34m=\u001b[0m \u001b[0mlen\u001b[0m\u001b[0;34m(\u001b[0m\u001b[0margs\u001b[0m\u001b[0;34m)\u001b[0m \u001b[0;34m-\u001b[0m \u001b[0mlen\u001b[0m\u001b[0;34m(\u001b[0m\u001b[0mall_args\u001b[0m\u001b[0;34m)\u001b[0m\u001b[0;34m\u001b[0m\u001b[0;34m\u001b[0m\u001b[0m\n\u001b[1;32m     62\u001b[0m             \u001b[0;32mif\u001b[0m \u001b[0mextra_args\u001b[0m \u001b[0;34m<=\u001b[0m \u001b[0;36m0\u001b[0m\u001b[0;34m:\u001b[0m\u001b[0;34m\u001b[0m\u001b[0;34m\u001b[0m\u001b[0m\n\u001b[0;32m---> 63\u001b[0;31m                 \u001b[0;32mreturn\u001b[0m \u001b[0mf\u001b[0m\u001b[0;34m(\u001b[0m\u001b[0;34m*\u001b[0m\u001b[0margs\u001b[0m\u001b[0;34m,\u001b[0m \u001b[0;34m**\u001b[0m\u001b[0mkwargs\u001b[0m\u001b[0;34m)\u001b[0m\u001b[0;34m\u001b[0m\u001b[0;34m\u001b[0m\u001b[0m\n\u001b[0m\u001b[1;32m     64\u001b[0m \u001b[0;34m\u001b[0m\u001b[0m\n\u001b[1;32m     65\u001b[0m             \u001b[0;31m# extra_args > 0\u001b[0m\u001b[0;34m\u001b[0m\u001b[0;34m\u001b[0m\u001b[0;34m\u001b[0m\u001b[0m\n",
      "\u001b[0;32m~/miniconda3/envs/latest/lib/python3.8/site-packages/sklearn/model_selection/_search.py\u001b[0m in \u001b[0;36mfit\u001b[0;34m(self, X, y, groups, **fit_params)\u001b[0m\n\u001b[1;32m    839\u001b[0m                 \u001b[0;32mreturn\u001b[0m \u001b[0mresults\u001b[0m\u001b[0;34m\u001b[0m\u001b[0;34m\u001b[0m\u001b[0m\n\u001b[1;32m    840\u001b[0m \u001b[0;34m\u001b[0m\u001b[0m\n\u001b[0;32m--> 841\u001b[0;31m             \u001b[0mself\u001b[0m\u001b[0;34m.\u001b[0m\u001b[0m_run_search\u001b[0m\u001b[0;34m(\u001b[0m\u001b[0mevaluate_candidates\u001b[0m\u001b[0;34m)\u001b[0m\u001b[0;34m\u001b[0m\u001b[0;34m\u001b[0m\u001b[0m\n\u001b[0m\u001b[1;32m    842\u001b[0m \u001b[0;34m\u001b[0m\u001b[0m\n\u001b[1;32m    843\u001b[0m             \u001b[0;31m# multimetric is determined here because in the case of a callable\u001b[0m\u001b[0;34m\u001b[0m\u001b[0;34m\u001b[0m\u001b[0;34m\u001b[0m\u001b[0m\n",
      "\u001b[0;32m~/miniconda3/envs/latest/lib/python3.8/site-packages/sklearn/model_selection/_search.py\u001b[0m in \u001b[0;36m_run_search\u001b[0;34m(self, evaluate_candidates)\u001b[0m\n\u001b[1;32m   1286\u001b[0m     \u001b[0;32mdef\u001b[0m \u001b[0m_run_search\u001b[0m\u001b[0;34m(\u001b[0m\u001b[0mself\u001b[0m\u001b[0;34m,\u001b[0m \u001b[0mevaluate_candidates\u001b[0m\u001b[0;34m)\u001b[0m\u001b[0;34m:\u001b[0m\u001b[0;34m\u001b[0m\u001b[0;34m\u001b[0m\u001b[0m\n\u001b[1;32m   1287\u001b[0m         \u001b[0;34m\"\"\"Search all candidates in param_grid\"\"\"\u001b[0m\u001b[0;34m\u001b[0m\u001b[0;34m\u001b[0m\u001b[0m\n\u001b[0;32m-> 1288\u001b[0;31m         \u001b[0mevaluate_candidates\u001b[0m\u001b[0;34m(\u001b[0m\u001b[0mParameterGrid\u001b[0m\u001b[0;34m(\u001b[0m\u001b[0mself\u001b[0m\u001b[0;34m.\u001b[0m\u001b[0mparam_grid\u001b[0m\u001b[0;34m)\u001b[0m\u001b[0;34m)\u001b[0m\u001b[0;34m\u001b[0m\u001b[0;34m\u001b[0m\u001b[0m\n\u001b[0m\u001b[1;32m   1289\u001b[0m \u001b[0;34m\u001b[0m\u001b[0m\n\u001b[1;32m   1290\u001b[0m \u001b[0;34m\u001b[0m\u001b[0m\n",
      "\u001b[0;32m~/miniconda3/envs/latest/lib/python3.8/site-packages/sklearn/model_selection/_search.py\u001b[0m in \u001b[0;36mevaluate_candidates\u001b[0;34m(candidate_params, cv, more_results)\u001b[0m\n\u001b[1;32m    793\u001b[0m                               n_splits, n_candidates, n_candidates * n_splits))\n\u001b[1;32m    794\u001b[0m \u001b[0;34m\u001b[0m\u001b[0m\n\u001b[0;32m--> 795\u001b[0;31m                 out = parallel(delayed(_fit_and_score)(clone(base_estimator),\n\u001b[0m\u001b[1;32m    796\u001b[0m                                                        \u001b[0mX\u001b[0m\u001b[0;34m,\u001b[0m \u001b[0my\u001b[0m\u001b[0;34m,\u001b[0m\u001b[0;34m\u001b[0m\u001b[0;34m\u001b[0m\u001b[0m\n\u001b[1;32m    797\u001b[0m                                                        \u001b[0mtrain\u001b[0m\u001b[0;34m=\u001b[0m\u001b[0mtrain\u001b[0m\u001b[0;34m,\u001b[0m \u001b[0mtest\u001b[0m\u001b[0;34m=\u001b[0m\u001b[0mtest\u001b[0m\u001b[0;34m,\u001b[0m\u001b[0;34m\u001b[0m\u001b[0;34m\u001b[0m\u001b[0m\n",
      "\u001b[0;32m~/miniconda3/envs/latest/lib/python3.8/site-packages/joblib/parallel.py\u001b[0m in \u001b[0;36m__call__\u001b[0;34m(self, iterable)\u001b[0m\n\u001b[1;32m   1052\u001b[0m \u001b[0;34m\u001b[0m\u001b[0m\n\u001b[1;32m   1053\u001b[0m             \u001b[0;32mwith\u001b[0m \u001b[0mself\u001b[0m\u001b[0;34m.\u001b[0m\u001b[0m_backend\u001b[0m\u001b[0;34m.\u001b[0m\u001b[0mretrieval_context\u001b[0m\u001b[0;34m(\u001b[0m\u001b[0;34m)\u001b[0m\u001b[0;34m:\u001b[0m\u001b[0;34m\u001b[0m\u001b[0;34m\u001b[0m\u001b[0m\n\u001b[0;32m-> 1054\u001b[0;31m                 \u001b[0mself\u001b[0m\u001b[0;34m.\u001b[0m\u001b[0mretrieve\u001b[0m\u001b[0;34m(\u001b[0m\u001b[0;34m)\u001b[0m\u001b[0;34m\u001b[0m\u001b[0;34m\u001b[0m\u001b[0m\n\u001b[0m\u001b[1;32m   1055\u001b[0m             \u001b[0;31m# Make sure that we get a last message telling us we are done\u001b[0m\u001b[0;34m\u001b[0m\u001b[0;34m\u001b[0m\u001b[0;34m\u001b[0m\u001b[0m\n\u001b[1;32m   1056\u001b[0m             \u001b[0melapsed_time\u001b[0m \u001b[0;34m=\u001b[0m \u001b[0mtime\u001b[0m\u001b[0;34m.\u001b[0m\u001b[0mtime\u001b[0m\u001b[0;34m(\u001b[0m\u001b[0;34m)\u001b[0m \u001b[0;34m-\u001b[0m \u001b[0mself\u001b[0m\u001b[0;34m.\u001b[0m\u001b[0m_start_time\u001b[0m\u001b[0;34m\u001b[0m\u001b[0;34m\u001b[0m\u001b[0m\n",
      "\u001b[0;32m~/miniconda3/envs/latest/lib/python3.8/site-packages/joblib/parallel.py\u001b[0m in \u001b[0;36mretrieve\u001b[0;34m(self)\u001b[0m\n\u001b[1;32m    931\u001b[0m             \u001b[0;32mtry\u001b[0m\u001b[0;34m:\u001b[0m\u001b[0;34m\u001b[0m\u001b[0;34m\u001b[0m\u001b[0m\n\u001b[1;32m    932\u001b[0m                 \u001b[0;32mif\u001b[0m \u001b[0mgetattr\u001b[0m\u001b[0;34m(\u001b[0m\u001b[0mself\u001b[0m\u001b[0;34m.\u001b[0m\u001b[0m_backend\u001b[0m\u001b[0;34m,\u001b[0m \u001b[0;34m'supports_timeout'\u001b[0m\u001b[0;34m,\u001b[0m \u001b[0;32mFalse\u001b[0m\u001b[0;34m)\u001b[0m\u001b[0;34m:\u001b[0m\u001b[0;34m\u001b[0m\u001b[0;34m\u001b[0m\u001b[0m\n\u001b[0;32m--> 933\u001b[0;31m                     \u001b[0mself\u001b[0m\u001b[0;34m.\u001b[0m\u001b[0m_output\u001b[0m\u001b[0;34m.\u001b[0m\u001b[0mextend\u001b[0m\u001b[0;34m(\u001b[0m\u001b[0mjob\u001b[0m\u001b[0;34m.\u001b[0m\u001b[0mget\u001b[0m\u001b[0;34m(\u001b[0m\u001b[0mtimeout\u001b[0m\u001b[0;34m=\u001b[0m\u001b[0mself\u001b[0m\u001b[0;34m.\u001b[0m\u001b[0mtimeout\u001b[0m\u001b[0;34m)\u001b[0m\u001b[0;34m)\u001b[0m\u001b[0;34m\u001b[0m\u001b[0;34m\u001b[0m\u001b[0m\n\u001b[0m\u001b[1;32m    934\u001b[0m                 \u001b[0;32melse\u001b[0m\u001b[0;34m:\u001b[0m\u001b[0;34m\u001b[0m\u001b[0;34m\u001b[0m\u001b[0m\n\u001b[1;32m    935\u001b[0m                     \u001b[0mself\u001b[0m\u001b[0;34m.\u001b[0m\u001b[0m_output\u001b[0m\u001b[0;34m.\u001b[0m\u001b[0mextend\u001b[0m\u001b[0;34m(\u001b[0m\u001b[0mjob\u001b[0m\u001b[0;34m.\u001b[0m\u001b[0mget\u001b[0m\u001b[0;34m(\u001b[0m\u001b[0;34m)\u001b[0m\u001b[0;34m)\u001b[0m\u001b[0;34m\u001b[0m\u001b[0;34m\u001b[0m\u001b[0m\n",
      "\u001b[0;32m~/miniconda3/envs/latest/lib/python3.8/site-packages/joblib/_parallel_backends.py\u001b[0m in \u001b[0;36mwrap_future_result\u001b[0;34m(future, timeout)\u001b[0m\n\u001b[1;32m    540\u001b[0m         AsyncResults.get from multiprocessing.\"\"\"\n\u001b[1;32m    541\u001b[0m         \u001b[0;32mtry\u001b[0m\u001b[0;34m:\u001b[0m\u001b[0;34m\u001b[0m\u001b[0;34m\u001b[0m\u001b[0m\n\u001b[0;32m--> 542\u001b[0;31m             \u001b[0;32mreturn\u001b[0m \u001b[0mfuture\u001b[0m\u001b[0;34m.\u001b[0m\u001b[0mresult\u001b[0m\u001b[0;34m(\u001b[0m\u001b[0mtimeout\u001b[0m\u001b[0;34m=\u001b[0m\u001b[0mtimeout\u001b[0m\u001b[0;34m)\u001b[0m\u001b[0;34m\u001b[0m\u001b[0;34m\u001b[0m\u001b[0m\n\u001b[0m\u001b[1;32m    543\u001b[0m         \u001b[0;32mexcept\u001b[0m \u001b[0mCfTimeoutError\u001b[0m \u001b[0;32mas\u001b[0m \u001b[0me\u001b[0m\u001b[0;34m:\u001b[0m\u001b[0;34m\u001b[0m\u001b[0;34m\u001b[0m\u001b[0m\n\u001b[1;32m    544\u001b[0m             \u001b[0;32mraise\u001b[0m \u001b[0mTimeoutError\u001b[0m \u001b[0;32mfrom\u001b[0m \u001b[0me\u001b[0m\u001b[0;34m\u001b[0m\u001b[0;34m\u001b[0m\u001b[0m\n",
      "\u001b[0;32m~/miniconda3/envs/latest/lib/python3.8/concurrent/futures/_base.py\u001b[0m in \u001b[0;36mresult\u001b[0;34m(self, timeout)\u001b[0m\n\u001b[1;32m    432\u001b[0m                 \u001b[0;32mreturn\u001b[0m \u001b[0mself\u001b[0m\u001b[0;34m.\u001b[0m\u001b[0m__get_result\u001b[0m\u001b[0;34m(\u001b[0m\u001b[0;34m)\u001b[0m\u001b[0;34m\u001b[0m\u001b[0;34m\u001b[0m\u001b[0m\n\u001b[1;32m    433\u001b[0m \u001b[0;34m\u001b[0m\u001b[0m\n\u001b[0;32m--> 434\u001b[0;31m             \u001b[0mself\u001b[0m\u001b[0;34m.\u001b[0m\u001b[0m_condition\u001b[0m\u001b[0;34m.\u001b[0m\u001b[0mwait\u001b[0m\u001b[0;34m(\u001b[0m\u001b[0mtimeout\u001b[0m\u001b[0;34m)\u001b[0m\u001b[0;34m\u001b[0m\u001b[0;34m\u001b[0m\u001b[0m\n\u001b[0m\u001b[1;32m    435\u001b[0m \u001b[0;34m\u001b[0m\u001b[0m\n\u001b[1;32m    436\u001b[0m             \u001b[0;32mif\u001b[0m \u001b[0mself\u001b[0m\u001b[0;34m.\u001b[0m\u001b[0m_state\u001b[0m \u001b[0;32min\u001b[0m \u001b[0;34m[\u001b[0m\u001b[0mCANCELLED\u001b[0m\u001b[0;34m,\u001b[0m \u001b[0mCANCELLED_AND_NOTIFIED\u001b[0m\u001b[0;34m]\u001b[0m\u001b[0;34m:\u001b[0m\u001b[0;34m\u001b[0m\u001b[0;34m\u001b[0m\u001b[0m\n",
      "\u001b[0;32m~/miniconda3/envs/latest/lib/python3.8/threading.py\u001b[0m in \u001b[0;36mwait\u001b[0;34m(self, timeout)\u001b[0m\n\u001b[1;32m    300\u001b[0m         \u001b[0;32mtry\u001b[0m\u001b[0;34m:\u001b[0m    \u001b[0;31m# restore state no matter what (e.g., KeyboardInterrupt)\u001b[0m\u001b[0;34m\u001b[0m\u001b[0;34m\u001b[0m\u001b[0m\n\u001b[1;32m    301\u001b[0m             \u001b[0;32mif\u001b[0m \u001b[0mtimeout\u001b[0m \u001b[0;32mis\u001b[0m \u001b[0;32mNone\u001b[0m\u001b[0;34m:\u001b[0m\u001b[0;34m\u001b[0m\u001b[0;34m\u001b[0m\u001b[0m\n\u001b[0;32m--> 302\u001b[0;31m                 \u001b[0mwaiter\u001b[0m\u001b[0;34m.\u001b[0m\u001b[0macquire\u001b[0m\u001b[0;34m(\u001b[0m\u001b[0;34m)\u001b[0m\u001b[0;34m\u001b[0m\u001b[0;34m\u001b[0m\u001b[0m\n\u001b[0m\u001b[1;32m    303\u001b[0m                 \u001b[0mgotit\u001b[0m \u001b[0;34m=\u001b[0m \u001b[0;32mTrue\u001b[0m\u001b[0;34m\u001b[0m\u001b[0;34m\u001b[0m\u001b[0m\n\u001b[1;32m    304\u001b[0m             \u001b[0;32melse\u001b[0m\u001b[0;34m:\u001b[0m\u001b[0;34m\u001b[0m\u001b[0;34m\u001b[0m\u001b[0m\n",
      "\u001b[0;31mKeyboardInterrupt\u001b[0m: "
     ]
    }
   ],
   "source": [
    "# Now try a random forest\n",
    "rf = ensemble.RandomForestClassifier(\n",
    "#                                     n_estimators=100,          \n",
    "                                     criterion='entropy',        # didn't seem to make a big difference \n",
    "#                                     max_depth=None, \n",
    "                                     min_samples_split=2, \n",
    "                                     min_samples_leaf=1, \n",
    "                                     min_weight_fraction_leaf=0.0, \n",
    "#                                     max_features='auto', \n",
    "                                     max_leaf_nodes=None, \n",
    "                                     min_impurity_decrease=0.0, \n",
    "                                     min_impurity_split=None, \n",
    "                                     bootstrap=True, \n",
    "                                     oob_score=False, \n",
    "                                     n_jobs=-1,                  # Throw everything at it!!!\n",
    "                                     random_state=13,            # For reproducibility \n",
    "                                     verbose=1,                  # slightly helpful \n",
    "                                     warm_start=False, \n",
    "                                     class_weight=None, \n",
    "                                     ccp_alpha=0.0, \n",
    "                                     max_samples=None\n",
    "                                    )\n",
    "params = {\n",
    "    'n_estimators':[300],\n",
    "    'max_depth':range(11,13),\n",
    "    'max_features':[None],    \n",
    "}\n",
    "rfg = GridSearchCV(rf, params, n_jobs=-1, cv=5, verbose=1)\n",
    "rfg.fit(X_train, y_train)\n",
    "print(\"Best Estimator:\", rfg.best_estimator_) \n",
    "print(\"  Params:      \", rfg.best_params_)\n",
    "print(\"R^2 Training:  \", rfg.best_score_)           \n",
    "print(\"R^2 Test:      \", rfg.best_estimator_.score(X_test, y_test))\n",
    "\n",
    "# Fitting 5 folds for each of 12 candidates, totalling 60 fits\n",
    "# [Parallel(n_jobs=-1)]: Using backend ThreadingBackend with 4 concurrent workers.\n",
    "# [Parallel(n_jobs=-1)]: Done  42 tasks      | elapsed:   29.6s\n",
    "# Best Estimator: RandomForestClassifier(criterion='entropy', max_depth=11, max_features=None,\n",
    "#                        n_jobs=-1, random_state=13, verbose=1)\n",
    "#   Params:       {'criterion': 'entropy', 'max_depth': 11, 'max_features': None}\n",
    "# Best Estimator: RandomForestClassifier(criterion='entropy', max_depth=11, max_features=None,\n",
    "#                        n_estimators=300, n_jobs=-1, random_state=13, verbose=1)\n",
    "#   Params:       {'max_depth': 11, 'max_features': None, 'n_estimators': 300}\n",
    "# R^2 Training:   0.8783295711060948\n",
    "# R^2 Test:       0.8860045146726863\n",
    "# [Parallel(n_jobs=4)]: Done 300 out of 300 | elapsed:    0.2s finished\n",
    "\n"
   ]
  },
  {
   "cell_type": "code",
   "execution_count": 18,
   "id": "executive-palestine",
   "metadata": {
    "ExecuteTime": {
     "end_time": "2021-05-21T20:23:05.095199Z",
     "start_time": "2021-05-21T20:21:35.584105Z"
    }
   },
   "outputs": [
    {
     "name": "stdout",
     "output_type": "stream",
     "text": [
      "R^2 Training:   0.9485327313769751\n",
      "R^2 Test:       0.8830699774266366\n"
     ]
    }
   ],
   "source": [
    "# Lock-in random forest parameters:\n",
    "rfb = ensemble.RandomForestClassifier(n_estimators=100,           \n",
    "                                      criterion='entropy', \n",
    "                                      max_depth=11, \n",
    "                                      min_samples_split=2, \n",
    "                                      min_samples_leaf=1, \n",
    "                                      min_weight_fraction_leaf=0.0, \n",
    "                                      max_features=None, \n",
    "                                      max_leaf_nodes=None, \n",
    "                                      min_impurity_decrease=0.0, \n",
    "                                      min_impurity_split=None, \n",
    "                                      bootstrap=True, \n",
    "                                      oob_score=False, \n",
    "                                      n_jobs=-1,                  # Throw everything at it!!!\n",
    "                                      random_state=13,            # For reproducibility \n",
    "                                      verbose=0,\n",
    "                                      warm_start=False, \n",
    "                                      class_weight=None, \n",
    "                                      ccp_alpha=0.0, \n",
    "                                      max_samples=None\n",
    "                                     )\n",
    "rfb.fit(X_train, y_train)\n",
    "print(\"R^2 Training:  \", rfb.score(X_train, y_train))      \n",
    "print(\"R^2 Test:      \", rfb.score(X_test, y_test))\n",
    "# R^2 Training:   0.9485327313769751\n",
    "# R^2 Test:       0.8830699774266366"
   ]
  },
  {
   "cell_type": "markdown",
   "id": "injured-advance",
   "metadata": {},
   "source": [
    "Other issues:\n",
    "\n",
    "* I couldn't replicate the \"post-processing\" that the authors did to boost R-squared about 3 percentage points.  It appears that it would require my segments to be consecutive, and they clearly are not (for example, the first 300 segments of the BBC data are commercials).\n",
    "\n",
    "* I trained the best models on the CCN data too, just to see the differences.  Here is a summary, and code used is in the cells below.\n",
    "\n",
    "### Summary of BBC v CNN Results\n",
    "\n",
    "| R-squared      |            |                   |                  |                |\n",
    "| :-------       | :--------: |      :-----:      |     :-----:      |  :-----:       |\n",
    "| Trained On     | BBC Train  |      BBC Train    |     CNN Train    |    CNN Train   |\n",
    "| Applied To     | BBC Test   |      CNN All      |     CNN Train    |    CNN Test    |\n",
    "|                |            |                   |                  |                |\n",
    "| Decision Tree  | 85.0%      |      60.5%        |     93.3%        |     90.2%      |\n",
    "| Gradient Boost | 88.8%      |      68.9%        |     97.8%        |      94.2%     |\n",
    "| Random Forest  | 88.3%      |      63.9%        |     98.5%        |      93.4%     |"
   ]
  },
  {
   "cell_type": "code",
   "execution_count": 19,
   "id": "sized-diploma",
   "metadata": {
    "ExecuteTime": {
     "end_time": "2021-05-21T20:24:42.464873Z",
     "start_time": "2021-05-21T20:24:38.812733Z"
    }
   },
   "outputs": [],
   "source": [
    "# Load CNN data\n",
    "Xc, yc = get_data(\"./data/CNN.txt\")\n"
   ]
  },
  {
   "cell_type": "code",
   "execution_count": 20,
   "id": "further-release",
   "metadata": {
    "ExecuteTime": {
     "end_time": "2021-05-21T20:24:46.100998Z",
     "start_time": "2021-05-21T20:24:46.048773Z"
    }
   },
   "outputs": [
    {
     "name": "stdout",
     "output_type": "stream",
     "text": [
      "<class 'scipy.sparse.csr.csr_matrix'> (22545, 4125)\n",
      "<class 'numpy.ndarray'> (22545,)\n",
      "\n",
      "News segments:\n",
      "count     8134.000000\n",
      "mean       226.578928\n",
      "std        444.134515\n",
      "min         25.000000\n",
      "25%         41.000000\n",
      "50%         92.000000\n",
      "75%        232.000000\n",
      "max      17729.000000\n",
      "Name: seconds, dtype: float64\n",
      "\n",
      "Commercial segments:\n",
      "count    14411.000000\n",
      "mean        63.847616\n",
      "std         90.337874\n",
      "min         25.000000\n",
      "25%         28.000000\n",
      "50%         42.000000\n",
      "75%         71.000000\n",
      "max       4234.000000\n",
      "Name: seconds, dtype: float64\n"
     ]
    }
   ],
   "source": [
    "# Examine the data\n",
    "print(type(Xc), Xc.shape)\n",
    "print(type(yc), yc.shape)\n",
    "\n",
    "# Put basic info into dataframe just for easy tallying\n",
    "Xc_df = pd.DataFrame(Xc[:,0].toarray(), columns=['seconds'])\n",
    "yc_df = pd.DataFrame(yc, columns=['type'])\n",
    "basic_info_c = pd.concat([yc_df, Xc_df], axis=1)\n",
    "\n",
    "# Get stats for news and commercials separately:\n",
    "print(\"\\nNews segments:\")\n",
    "print(basic_info_c.loc[basic_info_c['type'] == -1].seconds.describe())\n",
    "\n",
    "print(\"\\nCommercial segments:\")\n",
    "print(basic_info_c.loc[basic_info_c['type'] ==  1].seconds.describe())\n"
   ]
  },
  {
   "cell_type": "code",
   "execution_count": 21,
   "id": "silent-convertible",
   "metadata": {
    "ExecuteTime": {
     "end_time": "2021-05-21T20:24:50.285234Z",
     "start_time": "2021-05-21T20:24:50.253773Z"
    }
   },
   "outputs": [],
   "source": [
    "# Split into training and test sets. Using just trees here so don't bother with regularization\n",
    "Xc_train, Xc_test, yc_train, yc_test = train_test_split(Xc, yc, random_state=13)  \n"
   ]
  },
  {
   "cell_type": "code",
   "execution_count": 22,
   "id": "sitting-sculpture",
   "metadata": {
    "ExecuteTime": {
     "end_time": "2021-05-21T20:25:07.088783Z",
     "start_time": "2021-05-21T20:24:58.433854Z"
    }
   },
   "outputs": [
    {
     "name": "stdout",
     "output_type": "stream",
     "text": [
      "Decision Tree:\n",
      "R^2 trained on BBC:  \n",
      "   On CNN entire set: 0.605367043690397\n",
      "For reference, R^2 on BBC test data was 0.8496613995485327 \n",
      "\n",
      "R^2 trained on CNN:\n",
      "  On CNN training:   0.9334043056541282\n",
      "  On CNN test:       0.902075572112826\n"
     ]
    }
   ],
   "source": [
    "# Decision Tree\n",
    "dtb_c = copy.deepcopy(dtb)\n",
    "\n",
    "print(\"Decision Tree:\")\n",
    "\n",
    "# First try BBC model without modification on CNN  set\n",
    "print(\"R^2 trained on BBC:  \")\n",
    "print(\"   On CNN entire set:\", dtb_c.score(Xc, yc))  \n",
    "print(\"For reference, R^2 on BBC test data was\",dtb.score(X_test, y_test),'\\n')\n",
    "\n",
    "# Then try fitting same model but to CNN training data:\n",
    "dtb_c.fit(Xc_train, yc_train)\n",
    "print(\"R^2 trained on CNN:\")  \n",
    "print(\"  On CNN training:  \", dtb_c.score(Xc_train, yc_train))  \n",
    "print(\"  On CNN test:      \", dtb_c.score(Xc_test, yc_test))  \n"
   ]
  },
  {
   "cell_type": "code",
   "execution_count": 23,
   "id": "outside-phrase",
   "metadata": {
    "ExecuteTime": {
     "end_time": "2021-05-21T20:37:47.515941Z",
     "start_time": "2021-05-21T20:25:10.910057Z"
    }
   },
   "outputs": [
    {
     "name": "stdout",
     "output_type": "stream",
     "text": [
      "Gradient Boost:\n",
      "R^2 trained on BBC:  \n",
      "   On CNN entire set: 0.6887558216899534\n",
      "For reference, R^2 on BBC test data was 0.8882618510158014 \n",
      "\n",
      "R^2 trained on CNN:\n",
      "  On CNN training:   0.978412585758221\n",
      "  On CNN test:       0.9421678197622849\n"
     ]
    }
   ],
   "source": [
    "# Gradient Boost\n",
    "gbb_c = copy.deepcopy(gbb)\n",
    "print(\"Gradient Boost:\")\n",
    "\n",
    "# First try BBC model without modification on CNN  set\n",
    "print(\"R^2 trained on BBC:  \")\n",
    "print(\"   On CNN entire set:\", gbb_c.score(Xc, yc))  \n",
    "print(\"For reference, R^2 on BBC test data was\",gbb.score(X_test, y_test),'\\n')\n",
    "\n",
    "# Then try fitting same model but to CNN training data:\n",
    "gbb_c.fit(Xc_train, yc_train)\n",
    "print(\"R^2 trained on CNN:\")  \n",
    "print(\"  On CNN training:  \", gbb_c.score(Xc_train, yc_train))  \n",
    "print(\"  On CNN test:      \", gbb_c.score(Xc_test, yc_test))  \n"
   ]
  },
  {
   "cell_type": "code",
   "execution_count": 24,
   "id": "fifty-formula",
   "metadata": {
    "ExecuteTime": {
     "end_time": "2021-05-21T20:42:06.353585Z",
     "start_time": "2021-05-21T20:39:36.064570Z"
    }
   },
   "outputs": [
    {
     "name": "stdout",
     "output_type": "stream",
     "text": [
      "Random Forest:\n",
      "R^2 trained on BBC:  \n",
      "   On CNN entire set: 0.638766910623198\n",
      "For reference, R^2 on BBC test data was 0.8830699774266366 \n",
      "\n",
      "R^2 trained on CNN:\n",
      "  On CNN training:   0.9851549562337355\n",
      "  On CNN test:       0.9340074507716871\n"
     ]
    }
   ],
   "source": [
    "# Random Forest\n",
    "rfb_c = copy.deepcopy(rfb)\n",
    "print(\"Random Forest:\")\n",
    "\n",
    "# First try BBC model without modification on CNN  set\n",
    "print(\"R^2 trained on BBC:  \")\n",
    "print(\"   On CNN entire set:\", rfb_c.score(Xc, yc))  \n",
    "print(\"For reference, R^2 on BBC test data was\",rfb.score(X_test, y_test),'\\n')\n",
    "\n",
    "# Then try fitting same model but to CNN training data:\n",
    "rfb_c.fit(Xc_train, yc_train)\n",
    "print(\"R^2 trained on CNN:\")  \n",
    "print(\"  On CNN training:  \", rfb_c.score(Xc_train, yc_train))  \n",
    "print(\"  On CNN test:      \", rfb_c.score(Xc_test, yc_test))  \n"
   ]
  },
  {
   "cell_type": "code",
   "execution_count": 25,
   "id": "recent-albany",
   "metadata": {
    "ExecuteTime": {
     "end_time": "2021-05-21T20:42:06.378096Z",
     "start_time": "2021-05-21T20:42:06.368438Z"
    }
   },
   "outputs": [
    {
     "name": "stdout",
     "output_type": "stream",
     "text": [
      "The End.\n"
     ]
    }
   ],
   "source": [
    "print(\"The End.\")"
   ]
  },
  {
   "cell_type": "code",
   "execution_count": null,
   "id": "exciting-handling",
   "metadata": {},
   "outputs": [],
   "source": []
  }
 ],
 "metadata": {
  "kernelspec": {
   "display_name": "Python 3",
   "language": "python",
   "name": "python3"
  },
  "language_info": {
   "codemirror_mode": {
    "name": "ipython",
    "version": 3
   },
   "file_extension": ".py",
   "mimetype": "text/x-python",
   "name": "python",
   "nbconvert_exporter": "python",
   "pygments_lexer": "ipython3",
   "version": "3.8.8"
  }
 },
 "nbformat": 4,
 "nbformat_minor": 5
}
